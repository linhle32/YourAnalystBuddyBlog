{
 "cells": [
  {
   "cell_type": "markdown",
   "id": "4267d0e2",
   "metadata": {},
   "source": [
    "The complete explanation for this notebook is at https://youranalystbuddy.com/pandas-dataframe/\n",
    "    \n",
    "## Pandas dataframe"
   ]
  },
  {
   "cell_type": "code",
   "execution_count": 1,
   "id": "ea9040bd",
   "metadata": {},
   "outputs": [
    {
     "data": {
      "text/html": [
       "<div>\n",
       "<style scoped>\n",
       "    .dataframe tbody tr th:only-of-type {\n",
       "        vertical-align: middle;\n",
       "    }\n",
       "\n",
       "    .dataframe tbody tr th {\n",
       "        vertical-align: top;\n",
       "    }\n",
       "\n",
       "    .dataframe thead th {\n",
       "        text-align: right;\n",
       "    }\n",
       "</style>\n",
       "<table border=\"1\" class=\"dataframe\">\n",
       "  <thead>\n",
       "    <tr style=\"text-align: right;\">\n",
       "      <th></th>\n",
       "      <th>StudentID</th>\n",
       "      <th>FirstName</th>\n",
       "      <th>LastName</th>\n",
       "      <th>HighSchoolGPA</th>\n",
       "      <th>FirstYearGPA</th>\n",
       "    </tr>\n",
       "  </thead>\n",
       "  <tbody>\n",
       "    <tr>\n",
       "      <th>0</th>\n",
       "      <td>202005537</td>\n",
       "      <td>Eunice</td>\n",
       "      <td>Ehmann</td>\n",
       "      <td>2.47</td>\n",
       "      <td>2.42</td>\n",
       "    </tr>\n",
       "    <tr>\n",
       "      <th>1</th>\n",
       "      <td>202008560</td>\n",
       "      <td>Hobert</td>\n",
       "      <td>Schoenberger</td>\n",
       "      <td>2.27</td>\n",
       "      <td>2.05</td>\n",
       "    </tr>\n",
       "    <tr>\n",
       "      <th>2</th>\n",
       "      <td>202004948</td>\n",
       "      <td>Nicholas</td>\n",
       "      <td>Sizer</td>\n",
       "      <td>4.00</td>\n",
       "      <td>3.96</td>\n",
       "    </tr>\n",
       "    <tr>\n",
       "      <th>3</th>\n",
       "      <td>202001207</td>\n",
       "      <td>Elvin</td>\n",
       "      <td>Foulks</td>\n",
       "      <td>3.16</td>\n",
       "      <td>2.64</td>\n",
       "    </tr>\n",
       "    <tr>\n",
       "      <th>4</th>\n",
       "      <td>202000260</td>\n",
       "      <td>Bruno</td>\n",
       "      <td>Viney</td>\n",
       "      <td>3.82</td>\n",
       "      <td>3.99</td>\n",
       "    </tr>\n",
       "    <tr>\n",
       "      <th>...</th>\n",
       "      <td>...</td>\n",
       "      <td>...</td>\n",
       "      <td>...</td>\n",
       "      <td>...</td>\n",
       "      <td>...</td>\n",
       "    </tr>\n",
       "    <tr>\n",
       "      <th>195</th>\n",
       "      <td>202000691</td>\n",
       "      <td>Judge</td>\n",
       "      <td>Grandinetti</td>\n",
       "      <td>3.44</td>\n",
       "      <td>3.35</td>\n",
       "    </tr>\n",
       "    <tr>\n",
       "      <th>196</th>\n",
       "      <td>202009695</td>\n",
       "      <td>Winston</td>\n",
       "      <td>Kaneko</td>\n",
       "      <td>2.94</td>\n",
       "      <td>2.41</td>\n",
       "    </tr>\n",
       "    <tr>\n",
       "      <th>197</th>\n",
       "      <td>202008725</td>\n",
       "      <td>Thaddeus</td>\n",
       "      <td>Chen</td>\n",
       "      <td>3.59</td>\n",
       "      <td>3.50</td>\n",
       "    </tr>\n",
       "    <tr>\n",
       "      <th>198</th>\n",
       "      <td>202001120</td>\n",
       "      <td>Wright</td>\n",
       "      <td>Marburger</td>\n",
       "      <td>2.41</td>\n",
       "      <td>2.11</td>\n",
       "    </tr>\n",
       "    <tr>\n",
       "      <th>199</th>\n",
       "      <td>202009418</td>\n",
       "      <td>Sidney</td>\n",
       "      <td>Sienkiewicz</td>\n",
       "      <td>3.19</td>\n",
       "      <td>3.30</td>\n",
       "    </tr>\n",
       "  </tbody>\n",
       "</table>\n",
       "<p>200 rows × 5 columns</p>\n",
       "</div>"
      ],
      "text/plain": [
       "     StudentID FirstName      LastName  HighSchoolGPA  FirstYearGPA\n",
       "0    202005537    Eunice        Ehmann           2.47          2.42\n",
       "1    202008560    Hobert  Schoenberger           2.27          2.05\n",
       "2    202004948  Nicholas         Sizer           4.00          3.96\n",
       "3    202001207     Elvin        Foulks           3.16          2.64\n",
       "4    202000260     Bruno         Viney           3.82          3.99\n",
       "..         ...       ...           ...            ...           ...\n",
       "195  202000691     Judge   Grandinetti           3.44          3.35\n",
       "196  202009695   Winston        Kaneko           2.94          2.41\n",
       "197  202008725  Thaddeus          Chen           3.59          3.50\n",
       "198  202001120    Wright     Marburger           2.41          2.11\n",
       "199  202009418    Sidney   Sienkiewicz           3.19          3.30\n",
       "\n",
       "[200 rows x 5 columns]"
      ]
     },
     "execution_count": 1,
     "metadata": {},
     "output_type": "execute_result"
    }
   ],
   "source": [
    "import pandas as pd\n",
    "\n",
    "students = pd.read_csv('students.csv')\n",
    "students"
   ]
  },
  {
   "cell_type": "markdown",
   "id": "ba820f47",
   "metadata": {},
   "source": [
    "### Basic functions"
   ]
  },
  {
   "cell_type": "code",
   "execution_count": 2,
   "id": "5efd6bcd",
   "metadata": {},
   "outputs": [
    {
     "data": {
      "text/html": [
       "<div>\n",
       "<style scoped>\n",
       "    .dataframe tbody tr th:only-of-type {\n",
       "        vertical-align: middle;\n",
       "    }\n",
       "\n",
       "    .dataframe tbody tr th {\n",
       "        vertical-align: top;\n",
       "    }\n",
       "\n",
       "    .dataframe thead th {\n",
       "        text-align: right;\n",
       "    }\n",
       "</style>\n",
       "<table border=\"1\" class=\"dataframe\">\n",
       "  <thead>\n",
       "    <tr style=\"text-align: right;\">\n",
       "      <th></th>\n",
       "      <th>StudentID</th>\n",
       "      <th>FirstName</th>\n",
       "      <th>LastName</th>\n",
       "      <th>HighSchoolGPA</th>\n",
       "      <th>FirstYearGPA</th>\n",
       "    </tr>\n",
       "  </thead>\n",
       "  <tbody>\n",
       "    <tr>\n",
       "      <th>0</th>\n",
       "      <td>202005537</td>\n",
       "      <td>Eunice</td>\n",
       "      <td>Ehmann</td>\n",
       "      <td>2.47</td>\n",
       "      <td>2.42</td>\n",
       "    </tr>\n",
       "    <tr>\n",
       "      <th>1</th>\n",
       "      <td>202008560</td>\n",
       "      <td>Hobert</td>\n",
       "      <td>Schoenberger</td>\n",
       "      <td>2.27</td>\n",
       "      <td>2.05</td>\n",
       "    </tr>\n",
       "    <tr>\n",
       "      <th>2</th>\n",
       "      <td>202004948</td>\n",
       "      <td>Nicholas</td>\n",
       "      <td>Sizer</td>\n",
       "      <td>4.00</td>\n",
       "      <td>3.96</td>\n",
       "    </tr>\n",
       "  </tbody>\n",
       "</table>\n",
       "</div>"
      ],
      "text/plain": [
       "   StudentID FirstName      LastName  HighSchoolGPA  FirstYearGPA\n",
       "0  202005537    Eunice        Ehmann           2.47          2.42\n",
       "1  202008560    Hobert  Schoenberger           2.27          2.05\n",
       "2  202004948  Nicholas         Sizer           4.00          3.96"
      ]
     },
     "execution_count": 2,
     "metadata": {},
     "output_type": "execute_result"
    }
   ],
   "source": [
    "students.head(n=3)"
   ]
  },
  {
   "cell_type": "code",
   "execution_count": 3,
   "id": "ac053778",
   "metadata": {},
   "outputs": [
    {
     "name": "stdout",
     "output_type": "stream",
     "text": [
      "<class 'pandas.core.frame.DataFrame'>\n",
      "RangeIndex: 200 entries, 0 to 199\n",
      "Data columns (total 5 columns):\n",
      " #   Column         Non-Null Count  Dtype  \n",
      "---  ------         --------------  -----  \n",
      " 0   StudentID      200 non-null    int64  \n",
      " 1   FirstName      200 non-null    object \n",
      " 2   LastName       200 non-null    object \n",
      " 3   HighSchoolGPA  200 non-null    float64\n",
      " 4   FirstYearGPA   200 non-null    float64\n",
      "dtypes: float64(2), int64(1), object(2)\n",
      "memory usage: 7.9+ KB\n"
     ]
    }
   ],
   "source": [
    "students.info()"
   ]
  },
  {
   "cell_type": "code",
   "execution_count": 4,
   "id": "fcc51cc4",
   "metadata": {},
   "outputs": [
    {
     "data": {
      "text/plain": [
       "(200, 5)"
      ]
     },
     "execution_count": 4,
     "metadata": {},
     "output_type": "execute_result"
    }
   ],
   "source": [
    "students.shape"
   ]
  },
  {
   "cell_type": "markdown",
   "id": "e1330e2f",
   "metadata": {},
   "source": [
    "### Slicing dataframes"
   ]
  },
  {
   "cell_type": "code",
   "execution_count": 5,
   "id": "7802e702",
   "metadata": {},
   "outputs": [
    {
     "data": {
      "text/plain": [
       "0      2.47\n",
       "1      2.27\n",
       "2      4.00\n",
       "3      3.16\n",
       "4      3.82\n",
       "       ... \n",
       "195    3.44\n",
       "196    2.94\n",
       "197    3.59\n",
       "198    2.41\n",
       "199    3.19\n",
       "Name: HighSchoolGPA, Length: 200, dtype: float64"
      ]
     },
     "execution_count": 5,
     "metadata": {},
     "output_type": "execute_result"
    }
   ],
   "source": [
    "students['HighSchoolGPA']"
   ]
  },
  {
   "cell_type": "code",
   "execution_count": 6,
   "id": "701522db",
   "metadata": {},
   "outputs": [
    {
     "data": {
      "text/html": [
       "<div>\n",
       "<style scoped>\n",
       "    .dataframe tbody tr th:only-of-type {\n",
       "        vertical-align: middle;\n",
       "    }\n",
       "\n",
       "    .dataframe tbody tr th {\n",
       "        vertical-align: top;\n",
       "    }\n",
       "\n",
       "    .dataframe thead th {\n",
       "        text-align: right;\n",
       "    }\n",
       "</style>\n",
       "<table border=\"1\" class=\"dataframe\">\n",
       "  <thead>\n",
       "    <tr style=\"text-align: right;\">\n",
       "      <th></th>\n",
       "      <th>FirstName</th>\n",
       "      <th>LastName</th>\n",
       "      <th>FirstYearGPA</th>\n",
       "    </tr>\n",
       "  </thead>\n",
       "  <tbody>\n",
       "    <tr>\n",
       "      <th>0</th>\n",
       "      <td>Eunice</td>\n",
       "      <td>Ehmann</td>\n",
       "      <td>2.42</td>\n",
       "    </tr>\n",
       "    <tr>\n",
       "      <th>1</th>\n",
       "      <td>Hobert</td>\n",
       "      <td>Schoenberger</td>\n",
       "      <td>2.05</td>\n",
       "    </tr>\n",
       "    <tr>\n",
       "      <th>2</th>\n",
       "      <td>Nicholas</td>\n",
       "      <td>Sizer</td>\n",
       "      <td>3.96</td>\n",
       "    </tr>\n",
       "    <tr>\n",
       "      <th>3</th>\n",
       "      <td>Elvin</td>\n",
       "      <td>Foulks</td>\n",
       "      <td>2.64</td>\n",
       "    </tr>\n",
       "    <tr>\n",
       "      <th>4</th>\n",
       "      <td>Bruno</td>\n",
       "      <td>Viney</td>\n",
       "      <td>3.99</td>\n",
       "    </tr>\n",
       "    <tr>\n",
       "      <th>...</th>\n",
       "      <td>...</td>\n",
       "      <td>...</td>\n",
       "      <td>...</td>\n",
       "    </tr>\n",
       "    <tr>\n",
       "      <th>195</th>\n",
       "      <td>Judge</td>\n",
       "      <td>Grandinetti</td>\n",
       "      <td>3.35</td>\n",
       "    </tr>\n",
       "    <tr>\n",
       "      <th>196</th>\n",
       "      <td>Winston</td>\n",
       "      <td>Kaneko</td>\n",
       "      <td>2.41</td>\n",
       "    </tr>\n",
       "    <tr>\n",
       "      <th>197</th>\n",
       "      <td>Thaddeus</td>\n",
       "      <td>Chen</td>\n",
       "      <td>3.50</td>\n",
       "    </tr>\n",
       "    <tr>\n",
       "      <th>198</th>\n",
       "      <td>Wright</td>\n",
       "      <td>Marburger</td>\n",
       "      <td>2.11</td>\n",
       "    </tr>\n",
       "    <tr>\n",
       "      <th>199</th>\n",
       "      <td>Sidney</td>\n",
       "      <td>Sienkiewicz</td>\n",
       "      <td>3.30</td>\n",
       "    </tr>\n",
       "  </tbody>\n",
       "</table>\n",
       "<p>200 rows × 3 columns</p>\n",
       "</div>"
      ],
      "text/plain": [
       "    FirstName      LastName  FirstYearGPA\n",
       "0      Eunice        Ehmann          2.42\n",
       "1      Hobert  Schoenberger          2.05\n",
       "2    Nicholas         Sizer          3.96\n",
       "3       Elvin        Foulks          2.64\n",
       "4       Bruno         Viney          3.99\n",
       "..        ...           ...           ...\n",
       "195     Judge   Grandinetti          3.35\n",
       "196   Winston        Kaneko          2.41\n",
       "197  Thaddeus          Chen          3.50\n",
       "198    Wright     Marburger          2.11\n",
       "199    Sidney   Sienkiewicz          3.30\n",
       "\n",
       "[200 rows x 3 columns]"
      ]
     },
     "execution_count": 6,
     "metadata": {},
     "output_type": "execute_result"
    }
   ],
   "source": [
    "students[['FirstName','LastName','FirstYearGPA']]"
   ]
  },
  {
   "cell_type": "code",
   "execution_count": 7,
   "id": "08ebef55",
   "metadata": {},
   "outputs": [
    {
     "data": {
      "text/html": [
       "<div>\n",
       "<style scoped>\n",
       "    .dataframe tbody tr th:only-of-type {\n",
       "        vertical-align: middle;\n",
       "    }\n",
       "\n",
       "    .dataframe tbody tr th {\n",
       "        vertical-align: top;\n",
       "    }\n",
       "\n",
       "    .dataframe thead th {\n",
       "        text-align: right;\n",
       "    }\n",
       "</style>\n",
       "<table border=\"1\" class=\"dataframe\">\n",
       "  <thead>\n",
       "    <tr style=\"text-align: right;\">\n",
       "      <th></th>\n",
       "      <th>FirstName</th>\n",
       "      <th>LastName</th>\n",
       "      <th>FirstYearGPA</th>\n",
       "    </tr>\n",
       "  </thead>\n",
       "  <tbody>\n",
       "    <tr>\n",
       "      <th>10</th>\n",
       "      <td>Olin</td>\n",
       "      <td>Mcclain</td>\n",
       "      <td>2.09</td>\n",
       "    </tr>\n",
       "    <tr>\n",
       "      <th>60</th>\n",
       "      <td>Benjamin</td>\n",
       "      <td>Brinkerhoff</td>\n",
       "      <td>2.44</td>\n",
       "    </tr>\n",
       "    <tr>\n",
       "      <th>110</th>\n",
       "      <td>Bessie</td>\n",
       "      <td>Bushman</td>\n",
       "      <td>2.90</td>\n",
       "    </tr>\n",
       "  </tbody>\n",
       "</table>\n",
       "</div>"
      ],
      "text/plain": [
       "    FirstName     LastName  FirstYearGPA\n",
       "10       Olin      Mcclain          2.09\n",
       "60   Benjamin  Brinkerhoff          2.44\n",
       "110    Bessie      Bushman          2.90"
      ]
     },
     "execution_count": 7,
     "metadata": {},
     "output_type": "execute_result"
    }
   ],
   "source": [
    "students.loc[[10,60,110],['FirstName','LastName','FirstYearGPA']]"
   ]
  },
  {
   "cell_type": "code",
   "execution_count": 8,
   "id": "98d0461b",
   "metadata": {},
   "outputs": [
    {
     "data": {
      "text/html": [
       "<div>\n",
       "<style scoped>\n",
       "    .dataframe tbody tr th:only-of-type {\n",
       "        vertical-align: middle;\n",
       "    }\n",
       "\n",
       "    .dataframe tbody tr th {\n",
       "        vertical-align: top;\n",
       "    }\n",
       "\n",
       "    .dataframe thead th {\n",
       "        text-align: right;\n",
       "    }\n",
       "</style>\n",
       "<table border=\"1\" class=\"dataframe\">\n",
       "  <thead>\n",
       "    <tr style=\"text-align: right;\">\n",
       "      <th></th>\n",
       "      <th>StudentID</th>\n",
       "      <th>FirstName</th>\n",
       "      <th>LastName</th>\n",
       "      <th>HighSchoolGPA</th>\n",
       "      <th>FirstYearGPA</th>\n",
       "    </tr>\n",
       "  </thead>\n",
       "  <tbody>\n",
       "    <tr>\n",
       "      <th>3</th>\n",
       "      <td>202001207</td>\n",
       "      <td>Elvin</td>\n",
       "      <td>Foulks</td>\n",
       "      <td>3.16</td>\n",
       "      <td>2.64</td>\n",
       "    </tr>\n",
       "    <tr>\n",
       "      <th>97</th>\n",
       "      <td>202002022</td>\n",
       "      <td>Elvin</td>\n",
       "      <td>Monje</td>\n",
       "      <td>2.95</td>\n",
       "      <td>2.08</td>\n",
       "    </tr>\n",
       "    <tr>\n",
       "      <th>133</th>\n",
       "      <td>202007347</td>\n",
       "      <td>Elvin</td>\n",
       "      <td>Stansell</td>\n",
       "      <td>2.82</td>\n",
       "      <td>2.37</td>\n",
       "    </tr>\n",
       "  </tbody>\n",
       "</table>\n",
       "</div>"
      ],
      "text/plain": [
       "     StudentID FirstName  LastName  HighSchoolGPA  FirstYearGPA\n",
       "3    202001207     Elvin    Foulks           3.16          2.64\n",
       "97   202002022     Elvin     Monje           2.95          2.08\n",
       "133  202007347     Elvin  Stansell           2.82          2.37"
      ]
     },
     "execution_count": 8,
     "metadata": {},
     "output_type": "execute_result"
    }
   ],
   "source": [
    "students.loc[students['FirstName']=='Elvin',:]"
   ]
  }
 ],
 "metadata": {
  "kernelspec": {
   "display_name": "Python 3 (ipykernel)",
   "language": "python",
   "name": "python3"
  },
  "language_info": {
   "codemirror_mode": {
    "name": "ipython",
    "version": 3
   },
   "file_extension": ".py",
   "mimetype": "text/x-python",
   "name": "python",
   "nbconvert_exporter": "python",
   "pygments_lexer": "ipython3",
   "version": "3.9.12"
  }
 },
 "nbformat": 4,
 "nbformat_minor": 5
}
