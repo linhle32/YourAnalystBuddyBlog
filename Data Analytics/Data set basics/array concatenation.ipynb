{
 "cells": [
  {
   "cell_type": "markdown",
   "id": "27c79101",
   "metadata": {},
   "source": [
    "The complete explanation for this notebook is at https://youranalystbuddy.com/array-concatenation/\n",
    "\n",
    "## Array dimensionality"
   ]
  },
  {
   "cell_type": "code",
   "execution_count": 1,
   "id": "eb9eb444",
   "metadata": {},
   "outputs": [],
   "source": [
    "import numpy as np"
   ]
  },
  {
   "cell_type": "markdown",
   "id": "7d6d3735",
   "metadata": {},
   "source": [
    "### one-dimensional"
   ]
  },
  {
   "cell_type": "code",
   "execution_count": 2,
   "id": "39b1e9e7",
   "metadata": {},
   "outputs": [
    {
     "data": {
      "text/plain": [
       "(5,)"
      ]
     },
     "execution_count": 2,
     "metadata": {},
     "output_type": "execute_result"
    }
   ],
   "source": [
    "array1d = np.array([4,5,6,1,3])\n",
    "array1d.shape"
   ]
  },
  {
   "cell_type": "markdown",
   "id": "db94a676",
   "metadata": {},
   "source": [
    "### two-dimensional"
   ]
  },
  {
   "cell_type": "code",
   "execution_count": 3,
   "id": "7823c32b",
   "metadata": {},
   "outputs": [
    {
     "data": {
      "text/plain": [
       "(2, 3)"
      ]
     },
     "execution_count": 3,
     "metadata": {},
     "output_type": "execute_result"
    }
   ],
   "source": [
    "array2d = np.array([\n",
    "    [4,6,6],\n",
    "    [1,8,2]\n",
    "])\n",
    "array2d.shape"
   ]
  },
  {
   "cell_type": "markdown",
   "id": "c09c01c5",
   "metadata": {},
   "source": [
    "### three-dimensional"
   ]
  },
  {
   "cell_type": "code",
   "execution_count": 4,
   "id": "ad74b542",
   "metadata": {
    "scrolled": true
   },
   "outputs": [
    {
     "data": {
      "text/plain": [
       "(2, 3, 3)"
      ]
     },
     "execution_count": 4,
     "metadata": {},
     "output_type": "execute_result"
    }
   ],
   "source": [
    "array3d = np.array([\n",
    "    [\n",
    "        [4,5,8],\n",
    "        [5,1,3],\n",
    "        [8,2,0]\n",
    "    ],\n",
    "    [\n",
    "        [3,1,8],\n",
    "        [9,5,3],\n",
    "        [1,2,3]\n",
    "    ],\n",
    "])\n",
    "array3d.shape"
   ]
  },
  {
   "cell_type": "markdown",
   "id": "c6605977",
   "metadata": {},
   "source": [
    "## 1D array concatenation"
   ]
  },
  {
   "cell_type": "code",
   "execution_count": 5,
   "id": "085ce4bd",
   "metadata": {},
   "outputs": [
    {
     "data": {
      "text/plain": [
       "array([1, 6, 2, 4, 4, 2, 9, 6, 3])"
      ]
     },
     "execution_count": 5,
     "metadata": {},
     "output_type": "execute_result"
    }
   ],
   "source": [
    "array1 = np.array([1,6,2,4])\n",
    "array2 = np.array([4,2])\n",
    "array3 = np.array([9,6,3])\n",
    "np.concatenate([array1, array2, array3])"
   ]
  },
  {
   "cell_type": "markdown",
   "id": "9137a685",
   "metadata": {},
   "source": [
    "## 2D array concatenation\n",
    "\n",
    "### Horizontally"
   ]
  },
  {
   "cell_type": "code",
   "execution_count": 6,
   "id": "cd8cb71e",
   "metadata": {},
   "outputs": [
    {
     "data": {
      "text/plain": [
       "(3, 4)"
      ]
     },
     "execution_count": 6,
     "metadata": {},
     "output_type": "execute_result"
    }
   ],
   "source": [
    "array1 = np.array([\n",
    "    [1,7,3,4],\n",
    "    [2,1,6,5],\n",
    "    [8,9,4,3]\n",
    "])\n",
    "array1.shape"
   ]
  },
  {
   "cell_type": "code",
   "execution_count": 7,
   "id": "6724c578",
   "metadata": {},
   "outputs": [
    {
     "data": {
      "text/plain": [
       "(3, 2)"
      ]
     },
     "execution_count": 7,
     "metadata": {},
     "output_type": "execute_result"
    }
   ],
   "source": [
    "array2 = np.array([\n",
    "    [5,6],\n",
    "    [3,2],\n",
    "    [8,8]\n",
    "])\n",
    "array2.shape"
   ]
  },
  {
   "cell_type": "code",
   "execution_count": 8,
   "id": "ff598a8b",
   "metadata": {},
   "outputs": [
    {
     "data": {
      "text/plain": [
       "array([[1, 7, 3, 4, 5, 6],\n",
       "       [2, 1, 6, 5, 3, 2],\n",
       "       [8, 9, 4, 3, 8, 8]])"
      ]
     },
     "execution_count": 8,
     "metadata": {},
     "output_type": "execute_result"
    }
   ],
   "source": [
    "np.concatenate([array1, array2], axis=1)"
   ]
  },
  {
   "cell_type": "markdown",
   "id": "2a1f855e",
   "metadata": {},
   "source": [
    "### Vertically"
   ]
  },
  {
   "cell_type": "code",
   "execution_count": 9,
   "id": "040f6ce4",
   "metadata": {},
   "outputs": [
    {
     "data": {
      "text/plain": [
       "(2, 4)"
      ]
     },
     "execution_count": 9,
     "metadata": {},
     "output_type": "execute_result"
    }
   ],
   "source": [
    "array1 = np.array([\n",
    "    [3,5,1,8],\n",
    "    [2,6,4,9],\n",
    "])\n",
    "array1.shape"
   ]
  },
  {
   "cell_type": "code",
   "execution_count": 10,
   "id": "c92d138d",
   "metadata": {},
   "outputs": [
    {
     "data": {
      "text/plain": [
       "(3, 4)"
      ]
     },
     "execution_count": 10,
     "metadata": {},
     "output_type": "execute_result"
    }
   ],
   "source": [
    "array2 = np.array([\n",
    "    [9,1,1,3],\n",
    "    [5,4,5,6],\n",
    "    [6,2,1,1]\n",
    "])\n",
    "array2.shape"
   ]
  },
  {
   "cell_type": "code",
   "execution_count": 11,
   "id": "c87b427f",
   "metadata": {},
   "outputs": [
    {
     "data": {
      "text/plain": [
       "array([[3, 5, 1, 8],\n",
       "       [2, 6, 4, 9],\n",
       "       [9, 1, 1, 3],\n",
       "       [5, 4, 5, 6],\n",
       "       [6, 2, 1, 1]])"
      ]
     },
     "execution_count": 11,
     "metadata": {},
     "output_type": "execute_result"
    }
   ],
   "source": [
    "np.concatenate([array1, array2], axis=0)"
   ]
  }
 ],
 "metadata": {
  "kernelspec": {
   "display_name": "Python 3 (ipykernel)",
   "language": "python",
   "name": "python3"
  },
  "language_info": {
   "codemirror_mode": {
    "name": "ipython",
    "version": 3
   },
   "file_extension": ".py",
   "mimetype": "text/x-python",
   "name": "python",
   "nbconvert_exporter": "python",
   "pygments_lexer": "ipython3",
   "version": "3.9.12"
  }
 },
 "nbformat": 4,
 "nbformat_minor": 5
}
