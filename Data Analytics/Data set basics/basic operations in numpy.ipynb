{
 "cells": [
  {
   "cell_type": "markdown",
   "id": "af35bf2a",
   "metadata": {},
   "source": [
    "The complete explanation for this notebook is at https://youranalystbuddy.com/numpy-operations/\n",
    "\n",
    "## Mathematical operations on numpy arrays"
   ]
  },
  {
   "cell_type": "code",
   "execution_count": 1,
   "id": "5beb67cc",
   "metadata": {},
   "outputs": [],
   "source": [
    "import numpy as np\n",
    "\n",
    "an_array = np.array([1, 5, 4, 9 ,7])"
   ]
  },
  {
   "cell_type": "code",
   "execution_count": 2,
   "id": "a675ed25",
   "metadata": {},
   "outputs": [
    {
     "data": {
      "text/plain": [
       "array([11, 15, 14, 19, 17])"
      ]
     },
     "execution_count": 2,
     "metadata": {},
     "output_type": "execute_result"
    }
   ],
   "source": [
    "an_array + 10"
   ]
  },
  {
   "cell_type": "code",
   "execution_count": 3,
   "id": "6b07b15a",
   "metadata": {},
   "outputs": [
    {
     "data": {
      "text/plain": [
       "array([-4,  0, -1,  4,  2])"
      ]
     },
     "execution_count": 3,
     "metadata": {},
     "output_type": "execute_result"
    }
   ],
   "source": [
    "an_array - 5"
   ]
  },
  {
   "cell_type": "code",
   "execution_count": 4,
   "id": "e856b0c5",
   "metadata": {},
   "outputs": [
    {
     "data": {
      "text/plain": [
       "array([ 1, 25, 16, 81, 49])"
      ]
     },
     "execution_count": 4,
     "metadata": {},
     "output_type": "execute_result"
    }
   ],
   "source": [
    "an_array ** 2"
   ]
  },
  {
   "cell_type": "markdown",
   "id": "f532691d",
   "metadata": {},
   "source": [
    "### Comparison operations"
   ]
  },
  {
   "cell_type": "code",
   "execution_count": 5,
   "id": "6bfd6aff",
   "metadata": {},
   "outputs": [
    {
     "data": {
      "text/plain": [
       "array([False, False, False,  True,  True])"
      ]
     },
     "execution_count": 5,
     "metadata": {},
     "output_type": "execute_result"
    }
   ],
   "source": [
    "an_array > 5"
   ]
  },
  {
   "cell_type": "code",
   "execution_count": 6,
   "id": "8dab1dad",
   "metadata": {},
   "outputs": [
    {
     "data": {
      "text/plain": [
       "array([ True, False,  True, False, False])"
      ]
     },
     "execution_count": 6,
     "metadata": {},
     "output_type": "execute_result"
    }
   ],
   "source": [
    "an_array < 5"
   ]
  },
  {
   "cell_type": "code",
   "execution_count": 14,
   "id": "c666e651",
   "metadata": {},
   "outputs": [
    {
     "data": {
      "text/plain": [
       "array([False,  True, False, False, False])"
      ]
     },
     "execution_count": 14,
     "metadata": {},
     "output_type": "execute_result"
    }
   ],
   "source": [
    "an_array == 5"
   ]
  },
  {
   "cell_type": "markdown",
   "id": "d8b302fc",
   "metadata": {},
   "source": [
    "## Elementwise operations"
   ]
  },
  {
   "cell_type": "code",
   "execution_count": 7,
   "id": "e064997b",
   "metadata": {},
   "outputs": [],
   "source": [
    "array_2 = np.array([\n",
    "    [2,5,6,1,2],\n",
    "    [6,3,1,3,6]\n",
    "])"
   ]
  },
  {
   "cell_type": "code",
   "execution_count": 8,
   "id": "62267692",
   "metadata": {},
   "outputs": [
    {
     "data": {
      "text/plain": [
       "array([[ 3, 10, 10, 10,  9],\n",
       "       [ 7,  8,  5, 12, 13]])"
      ]
     },
     "execution_count": 8,
     "metadata": {},
     "output_type": "execute_result"
    }
   ],
   "source": [
    "array_2 + an_array"
   ]
  },
  {
   "cell_type": "code",
   "execution_count": 19,
   "id": "23fd391f",
   "metadata": {},
   "outputs": [],
   "source": [
    "array1 = np.array([5,1,8,6,2])\n",
    "array2 = np.array([7,4,3,0,5])"
   ]
  },
  {
   "cell_type": "code",
   "execution_count": 20,
   "id": "be465d1b",
   "metadata": {},
   "outputs": [
    {
     "data": {
      "text/plain": [
       "array([12,  5, 11,  6,  7])"
      ]
     },
     "execution_count": 20,
     "metadata": {},
     "output_type": "execute_result"
    }
   ],
   "source": [
    "array1 + array2"
   ]
  },
  {
   "cell_type": "code",
   "execution_count": 21,
   "id": "054b2385",
   "metadata": {},
   "outputs": [
    {
     "data": {
      "text/plain": [
       "array([35,  4, 24,  0, 10])"
      ]
     },
     "execution_count": 21,
     "metadata": {},
     "output_type": "execute_result"
    }
   ],
   "source": [
    "array1 * array2"
   ]
  },
  {
   "cell_type": "code",
   "execution_count": 22,
   "id": "b45d5bd6",
   "metadata": {
    "scrolled": true
   },
   "outputs": [
    {
     "data": {
      "text/plain": [
       "array([False, False,  True,  True, False])"
      ]
     },
     "execution_count": 22,
     "metadata": {},
     "output_type": "execute_result"
    }
   ],
   "source": [
    "array1 > array2"
   ]
  },
  {
   "cell_type": "markdown",
   "id": "be649b01",
   "metadata": {},
   "source": [
    "## Numpy functions"
   ]
  },
  {
   "cell_type": "code",
   "execution_count": 40,
   "id": "0e2a5b4a",
   "metadata": {},
   "outputs": [],
   "source": [
    "an_array = np.array([6,4,3,5,2])"
   ]
  },
  {
   "cell_type": "code",
   "execution_count": 43,
   "id": "545c3287",
   "metadata": {},
   "outputs": [
    {
     "data": {
      "text/plain": [
       "array([1.79175947, 1.38629436, 1.09861229, 1.60943791, 0.69314718])"
      ]
     },
     "execution_count": 43,
     "metadata": {},
     "output_type": "execute_result"
    }
   ],
   "source": [
    "np.log(an_array)"
   ]
  },
  {
   "cell_type": "code",
   "execution_count": 44,
   "id": "52a12065",
   "metadata": {},
   "outputs": [
    {
     "data": {
      "text/plain": [
       "array([-0.2794155 , -0.7568025 ,  0.14112001, -0.95892427,  0.90929743])"
      ]
     },
     "execution_count": 44,
     "metadata": {},
     "output_type": "execute_result"
    }
   ],
   "source": [
    "np.sin(an_array)"
   ]
  },
  {
   "cell_type": "code",
   "execution_count": 46,
   "id": "dfad20f8",
   "metadata": {},
   "outputs": [
    {
     "data": {
      "text/plain": [
       "20"
      ]
     },
     "execution_count": 46,
     "metadata": {},
     "output_type": "execute_result"
    }
   ],
   "source": [
    "np.sum(an_array)"
   ]
  },
  {
   "cell_type": "code",
   "execution_count": 47,
   "id": "77320e0d",
   "metadata": {},
   "outputs": [
    {
     "data": {
      "text/plain": [
       "4.0"
      ]
     },
     "execution_count": 47,
     "metadata": {},
     "output_type": "execute_result"
    }
   ],
   "source": [
    "np.mean(an_array)"
   ]
  },
  {
   "cell_type": "code",
   "execution_count": 48,
   "id": "63004295",
   "metadata": {},
   "outputs": [
    {
     "data": {
      "text/plain": [
       "4.0"
      ]
     },
     "execution_count": 48,
     "metadata": {},
     "output_type": "execute_result"
    }
   ],
   "source": [
    "np.median(an_array)"
   ]
  },
  {
   "cell_type": "code",
   "execution_count": 49,
   "id": "d5f7ee43",
   "metadata": {},
   "outputs": [
    {
     "data": {
      "text/plain": [
       "2.0"
      ]
     },
     "execution_count": 49,
     "metadata": {},
     "output_type": "execute_result"
    }
   ],
   "source": [
    "np.var(an_array)"
   ]
  },
  {
   "cell_type": "code",
   "execution_count": 50,
   "id": "f10d9702",
   "metadata": {},
   "outputs": [
    {
     "data": {
      "text/plain": [
       "1.4142135623730951"
      ]
     },
     "execution_count": 50,
     "metadata": {},
     "output_type": "execute_result"
    }
   ],
   "source": [
    "np.std(an_array)"
   ]
  },
  {
   "cell_type": "markdown",
   "id": "0656f186",
   "metadata": {},
   "source": [
    "### Applying with axis"
   ]
  },
  {
   "cell_type": "code",
   "execution_count": 54,
   "id": "2d173f86",
   "metadata": {},
   "outputs": [],
   "source": [
    "data = np.array([\n",
    "    [3, 20, 100, 392],\n",
    "    [2, 14, 89, 453],\n",
    "    [5, 11, 153, 412],\n",
    "    [1, 24, 121, 312],\n",
    "    [3, 22, 90, 431]\n",
    "])"
   ]
  },
  {
   "cell_type": "code",
   "execution_count": 55,
   "id": "8f75e083",
   "metadata": {},
   "outputs": [
    {
     "data": {
      "text/plain": [
       "array([  2.8,  18.2, 110.6, 400. ])"
      ]
     },
     "execution_count": 55,
     "metadata": {},
     "output_type": "execute_result"
    }
   ],
   "source": [
    "np.mean(data, axis=0)"
   ]
  },
  {
   "cell_type": "code",
   "execution_count": 56,
   "id": "3160a380",
   "metadata": {},
   "outputs": [
    {
     "data": {
      "text/plain": [
       "array([128.75, 139.5 , 145.25, 114.5 , 136.5 ])"
      ]
     },
     "execution_count": 56,
     "metadata": {},
     "output_type": "execute_result"
    }
   ],
   "source": [
    "np.mean(data, axis=1)"
   ]
  },
  {
   "cell_type": "markdown",
   "id": "4f5dba05",
   "metadata": {},
   "source": [
    "## Example in data analysis"
   ]
  },
  {
   "cell_type": "code",
   "execution_count": 57,
   "id": "94b9c7a3",
   "metadata": {},
   "outputs": [],
   "source": [
    "gpas = np.array([\n",
    "    [3.12, 3.31, 3.54],\n",
    "    [2.57, 2.59, 2.55],\n",
    "    [2.39, 2.78, 3.11],\n",
    "    [3.21, 2.91, 2.73],\n",
    "    [3.52, 3.55, 3.62]\n",
    "])"
   ]
  },
  {
   "cell_type": "code",
   "execution_count": 62,
   "id": "26f0d9f3",
   "metadata": {},
   "outputs": [
    {
     "name": "stdout",
     "output_type": "stream",
     "text": [
      "means of GPAs: [2.962 3.028 3.11 ]\n",
      "standard deviations of GPAs: [0.41920878 0.35193181 0.42497059]\n"
     ]
    }
   ],
   "source": [
    "print('means of GPAs:', gpas.mean(axis=0))\n",
    "print('standard deviations of GPAs:',gpas.std(axis=0))"
   ]
  },
  {
   "cell_type": "code",
   "execution_count": 63,
   "id": "aa8f769f",
   "metadata": {},
   "outputs": [
    {
     "data": {
      "text/plain": [
       "array([ 0.19,  0.02,  0.39, -0.3 ,  0.03])"
      ]
     },
     "execution_count": 63,
     "metadata": {},
     "output_type": "execute_result"
    }
   ],
   "source": [
    "gpas[:,1] - gpas[:,0]"
   ]
  },
  {
   "cell_type": "code",
   "execution_count": 65,
   "id": "32a4aacc",
   "metadata": {},
   "outputs": [
    {
     "data": {
      "text/plain": [
       "array([ 0.23, -0.04,  0.33, -0.18,  0.07])"
      ]
     },
     "execution_count": 65,
     "metadata": {},
     "output_type": "execute_result"
    }
   ],
   "source": [
    "gpas[:,2] - gpas[:,1]"
   ]
  },
  {
   "cell_type": "code",
   "execution_count": 66,
   "id": "5159efa6",
   "metadata": {},
   "outputs": [
    {
     "data": {
      "text/plain": [
       "array([[1.137833  , 1.19694819, 1.26412673],\n",
       "       [0.9439059 , 0.95165788, 0.93609336],\n",
       "       [0.87129337, 1.02245093, 1.13462273],\n",
       "       [1.16627094, 1.06815308, 1.00430161],\n",
       "       [1.25846099, 1.2669476 , 1.28647403]])"
      ]
     },
     "execution_count": 66,
     "metadata": {},
     "output_type": "execute_result"
    }
   ],
   "source": [
    "np.log(gpas)"
   ]
  }
 ],
 "metadata": {
  "kernelspec": {
   "display_name": "Python 3 (ipykernel)",
   "language": "python",
   "name": "python3"
  },
  "language_info": {
   "codemirror_mode": {
    "name": "ipython",
    "version": 3
   },
   "file_extension": ".py",
   "mimetype": "text/x-python",
   "name": "python",
   "nbconvert_exporter": "python",
   "pygments_lexer": "ipython3",
   "version": "3.9.12"
  }
 },
 "nbformat": 4,
 "nbformat_minor": 5
}
