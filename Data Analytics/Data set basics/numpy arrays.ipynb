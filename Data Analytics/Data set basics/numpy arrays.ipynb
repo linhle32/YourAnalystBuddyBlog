{
 "cells": [
  {
   "cell_type": "markdown",
   "id": "3ac81ab2",
   "metadata": {},
   "source": [
    "The complete explanation for this notebook is at https://youranalystbuddy.com/numpy-arrays/\n",
    "\n",
    "## Motivation\n",
    "\n",
    "Working with data without dedicated containers is inconvenient"
   ]
  },
  {
   "cell_type": "code",
   "execution_count": 1,
   "id": "f07aa686",
   "metadata": {},
   "outputs": [
    {
     "name": "stdout",
     "output_type": "stream",
     "text": [
      "[100320, 36, 5, 110000]\n",
      "[132201, 30, 3, 105000]\n",
      "[100212, 45, 12, 133000]\n",
      "[143695, 27, 1, 80000]\n"
     ]
    }
   ],
   "source": [
    "employees = [\n",
    "    [100320,36,5,110000],\n",
    "    [132201,30,3,105000],\n",
    "    [100212,45,12,133000],\n",
    "    [143695,27,1,80000]\n",
    "]\n",
    "\n",
    "for employee in employees:\n",
    "    print(employee)"
   ]
  },
  {
   "cell_type": "code",
   "execution_count": 3,
   "id": "39416c27",
   "metadata": {},
   "outputs": [
    {
     "name": "stdout",
     "output_type": "stream",
     "text": [
      "[36, 30, 45, 27]\n"
     ]
    }
   ],
   "source": [
    "age = []\n",
    "\n",
    "for row in employees:\n",
    "    age.append(row[1])\n",
    "\n",
    "print(age)"
   ]
  },
  {
   "cell_type": "code",
   "execution_count": 4,
   "id": "d5361e45",
   "metadata": {},
   "outputs": [
    {
     "data": {
      "text/plain": [
       "34.5"
      ]
     },
     "execution_count": 4,
     "metadata": {},
     "output_type": "execute_result"
    }
   ],
   "source": [
    "sum(age) / len(age)"
   ]
  },
  {
   "cell_type": "markdown",
   "id": "e08d5161",
   "metadata": {},
   "source": [
    "## Basic Numpy arrays"
   ]
  },
  {
   "cell_type": "code",
   "execution_count": 5,
   "id": "3092f0e5",
   "metadata": {},
   "outputs": [],
   "source": [
    "import numpy as np"
   ]
  },
  {
   "cell_type": "code",
   "execution_count": 6,
   "id": "ae3604c4",
   "metadata": {},
   "outputs": [
    {
     "data": {
      "text/plain": [
       "array([[100320,     36,      5, 110000],\n",
       "       [132201,     30,      3, 105000],\n",
       "       [100212,     45,     12, 133000],\n",
       "       [143695,     27,      1,  80000]])"
      ]
     },
     "execution_count": 6,
     "metadata": {},
     "output_type": "execute_result"
    }
   ],
   "source": [
    "employees = np.array([\n",
    "    [100320,36,5,110000],\n",
    "    [132201,30,3,105000],\n",
    "    [100212,45,12,133000],\n",
    "    [143695,27,1,80000]\n",
    "])\n",
    "\n",
    "employees"
   ]
  },
  {
   "cell_type": "code",
   "execution_count": 7,
   "id": "622b4563",
   "metadata": {},
   "outputs": [
    {
     "data": {
      "text/plain": [
       "(4, 4)"
      ]
     },
     "execution_count": 7,
     "metadata": {},
     "output_type": "execute_result"
    }
   ],
   "source": [
    "employees.shape"
   ]
  },
  {
   "cell_type": "markdown",
   "id": "87b2d913",
   "metadata": {},
   "source": [
    "### Slicing Numpy arrays"
   ]
  },
  {
   "cell_type": "code",
   "execution_count": 11,
   "id": "60d3beac",
   "metadata": {},
   "outputs": [
    {
     "data": {
      "text/plain": [
       "array([100320,     36,      5, 110000])"
      ]
     },
     "execution_count": 11,
     "metadata": {},
     "output_type": "execute_result"
    }
   ],
   "source": [
    "employees[0]"
   ]
  },
  {
   "cell_type": "code",
   "execution_count": 10,
   "id": "c46fcefe",
   "metadata": {},
   "outputs": [
    {
     "data": {
      "text/plain": [
       "array([[100320,     36,      5, 110000],\n",
       "       [143695,     27,      1,  80000]])"
      ]
     },
     "execution_count": 10,
     "metadata": {},
     "output_type": "execute_result"
    }
   ],
   "source": [
    "employees[[0,3]]"
   ]
  },
  {
   "cell_type": "code",
   "execution_count": 12,
   "id": "0ec39b29",
   "metadata": {},
   "outputs": [
    {
     "data": {
      "text/plain": [
       "array([100320, 132201, 100212, 143695])"
      ]
     },
     "execution_count": 12,
     "metadata": {},
     "output_type": "execute_result"
    }
   ],
   "source": [
    "employees[:,0]"
   ]
  },
  {
   "cell_type": "code",
   "execution_count": 13,
   "id": "23b727da",
   "metadata": {},
   "outputs": [
    {
     "data": {
      "text/plain": [
       "array([[    36, 110000],\n",
       "       [    30, 105000],\n",
       "       [    45, 133000],\n",
       "       [    27,  80000]])"
      ]
     },
     "execution_count": 13,
     "metadata": {},
     "output_type": "execute_result"
    }
   ],
   "source": [
    "employees[:,[1,3]]"
   ]
  },
  {
   "cell_type": "code",
   "execution_count": 14,
   "id": "d958f780",
   "metadata": {},
   "outputs": [
    {
     "data": {
      "text/plain": [
       "array([[    36, 110000],\n",
       "       [    30, 105000],\n",
       "       [    45, 133000]])"
      ]
     },
     "execution_count": 14,
     "metadata": {},
     "output_type": "execute_result"
    }
   ],
   "source": [
    "employees[:3,[1,3]]"
   ]
  },
  {
   "cell_type": "markdown",
   "id": "7278842e",
   "metadata": {},
   "source": [
    "### Slicing with conditions"
   ]
  },
  {
   "cell_type": "code",
   "execution_count": 16,
   "id": "da6c8faf",
   "metadata": {},
   "outputs": [
    {
     "data": {
      "text/plain": [
       "array([[100320,     36,      5, 110000],\n",
       "       [100212,     45,     12, 133000]])"
      ]
     },
     "execution_count": 16,
     "metadata": {},
     "output_type": "execute_result"
    }
   ],
   "source": [
    "employees[employees[:,1] > 30]"
   ]
  },
  {
   "cell_type": "code",
   "execution_count": 17,
   "id": "76ed0bde",
   "metadata": {},
   "outputs": [
    {
     "data": {
      "text/plain": [
       "array([[132201,     30,      3, 105000],\n",
       "       [143695,     27,      1,  80000]])"
      ]
     },
     "execution_count": 17,
     "metadata": {},
     "output_type": "execute_result"
    }
   ],
   "source": [
    "employees[employees[:,-1] < 110000]"
   ]
  }
 ],
 "metadata": {
  "kernelspec": {
   "display_name": "Python 3 (ipykernel)",
   "language": "python",
   "name": "python3"
  },
  "language_info": {
   "codemirror_mode": {
    "name": "ipython",
    "version": 3
   },
   "file_extension": ".py",
   "mimetype": "text/x-python",
   "name": "python",
   "nbconvert_exporter": "python",
   "pygments_lexer": "ipython3",
   "version": "3.9.12"
  }
 },
 "nbformat": 4,
 "nbformat_minor": 5
}
