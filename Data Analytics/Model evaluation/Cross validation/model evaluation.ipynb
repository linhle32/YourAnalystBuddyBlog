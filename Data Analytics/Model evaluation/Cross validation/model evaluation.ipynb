{
 "cells": [
  {
   "cell_type": "markdown",
   "id": "109e61ad",
   "metadata": {
    "id": "109e61ad"
   },
   "source": [
    "The explanation for steps in this notebook is at https://youranalystbuddy.com/model-evaluation/\n",
    "\n",
    "## Model evaluation\n",
    "\n",
    "### Loading data and build pipeline"
   ]
  },
  {
   "cell_type": "code",
   "execution_count": 1,
   "id": "7c0379b2",
   "metadata": {
    "colab": {
     "base_uri": "https://localhost:8080/",
     "height": 423
    },
    "executionInfo": {
     "elapsed": 1913,
     "status": "ok",
     "timestamp": 1676320286278,
     "user": {
      "displayName": "Linh Le",
      "userId": "00514130171715816639"
     },
     "user_tz": 300
    },
    "id": "7c0379b2",
    "outputId": "a25f4d78-a958-496e-cca6-9f3a824b82d4"
   },
   "outputs": [],
   "source": [
    "import pandas as pd\n",
    "import numpy as np\n",
    "import matplotlib.pyplot as plt\n",
    "from sklearn.model_selection import train_test_split\n",
    "\n",
    "data = pd.read_csv('students1000.csv')\n",
    "\n",
    "log_cols = ['FamilyIncome']\n",
    "num_cols = ['HighSchoolGPA','AvgDailyStudyTime','TotalAbsence']\n",
    "cat_cols = ['Major','State']\n",
    "target = 'FirstYearGPA'\n",
    "\n",
    "from sklearn.pipeline import Pipeline\n",
    "from sklearn.preprocessing import StandardScaler\n",
    "from sklearn.impute import SimpleImputer\n",
    "from sklearn.pipeline import FunctionTransformer\n",
    "from sklearn.preprocessing import OneHotEncoder\n",
    "from sklearn.compose import ColumnTransformer\n",
    "\n",
    "#regular pipeline for HighSchoolGPA, AvgDailyStudyTime, and TotaAbsence\n",
    "num_pipeline = Pipeline([\n",
    "    ('standardize', StandardScaler()),\n",
    "    ('impute', SimpleImputer(strategy='median'))\n",
    "])\n",
    "\n",
    "#log pipeline with log transformation added for FamilyIncome\n",
    "def log_transform(data):\n",
    "    return np.log(data)\n",
    "\n",
    "log_pipeline = Pipeline([\n",
    "    ('log transform', FunctionTransformer(log_transform)),\n",
    "    ('standardize', StandardScaler()),\n",
    "    ('impute', SimpleImputer(strategy='median'))\n",
    "])\n",
    "\n",
    "#categorical pipeline for Major and State\n",
    "cat_pipeline = Pipeline([\n",
    "    ('encode', OneHotEncoder(max_categories=5, handle_unknown='infrequent_if_exist'))\n",
    "])\n",
    "\n",
    "processing_pipeline = ColumnTransformer([\n",
    "    ('log trans', log_pipeline, log_cols),\n",
    "    ('numeric', num_pipeline, num_cols),\n",
    "    ('class', cat_pipeline, cat_cols)\n",
    "])"
   ]
  },
  {
   "cell_type": "markdown",
   "id": "cc4676df",
   "metadata": {
    "id": "cc4676df"
   },
   "source": [
    "<h3>Regression Model</h3>\n",
    "\n",
    "<h4>Create and train model</h4>"
   ]
  },
  {
   "cell_type": "code",
   "execution_count": 2,
   "id": "0d4fb110",
   "metadata": {
    "colab": {
     "base_uri": "https://localhost:8080/"
    },
    "executionInfo": {
     "elapsed": 172,
     "status": "ok",
     "timestamp": 1676299186015,
     "user": {
      "displayName": "Linh Le",
      "userId": "00514130171715816639"
     },
     "user_tz": 300
    },
    "id": "0d4fb110",
    "outputId": "b8f1d69c-1f46-4a1a-e31a-084401a9bb3e",
    "scrolled": true
   },
   "outputs": [],
   "source": [
    "from sklearn.linear_model import LinearRegression\n",
    "\n",
    "linear_reg_pipeline = Pipeline([\n",
    "    ('processing', processing_pipeline),\n",
    "    ('modeling', LinearRegression())\n",
    "])"
   ]
  },
  {
   "cell_type": "markdown",
   "id": "654c571e",
   "metadata": {},
   "source": [
    "### Motivation"
   ]
  },
  {
   "cell_type": "code",
   "execution_count": 18,
   "id": "15e0d8e7",
   "metadata": {},
   "outputs": [
    {
     "name": "stdout",
     "output_type": "stream",
     "text": [
      "training r2: 0.8471151657163838\n",
      "testing r2: 0.8837116449064917\n"
     ]
    }
   ],
   "source": [
    "train, test = train_test_split(data, test_size=0.2)\n",
    "\n",
    "linear_reg_pipeline.fit(train, train[[target]])\n",
    "print('training r2:', linear_reg_pipeline.score(train,train[[target]]))\n",
    "print('testing r2:', linear_reg_pipeline.score(test,test[[target]]))"
   ]
  },
  {
   "cell_type": "code",
   "execution_count": 12,
   "id": "558b9ddb",
   "metadata": {},
   "outputs": [
    {
     "name": "stdout",
     "output_type": "stream",
     "text": [
      "training r2: 0.8592036109478167\n",
      "testing r2: 0.840746003829508\n"
     ]
    }
   ],
   "source": [
    "train, test = train_test_split(data, test_size=0.2)\n",
    "\n",
    "linear_reg_pipeline.fit(train, train[[target]])\n",
    "print('training r2:', linear_reg_pipeline.score(train,train[[target]]))\n",
    "print('testing r2:', linear_reg_pipeline.score(test,test[[target]]))"
   ]
  },
  {
   "cell_type": "markdown",
   "id": "dfc01502",
   "metadata": {},
   "source": [
    "## Cross-validation scoring"
   ]
  },
  {
   "cell_type": "code",
   "execution_count": 5,
   "id": "ca40573a",
   "metadata": {},
   "outputs": [],
   "source": [
    "train, test = train_test_split(data, test_size=0.2)"
   ]
  },
  {
   "cell_type": "code",
   "execution_count": 6,
   "id": "9d6bb9ad",
   "metadata": {
    "colab": {
     "base_uri": "https://localhost:8080/"
    },
    "executionInfo": {
     "elapsed": 161,
     "status": "ok",
     "timestamp": 1676299187581,
     "user": {
      "displayName": "Linh Le",
      "userId": "00514130171715816639"
     },
     "user_tz": 300
    },
    "id": "9d6bb9ad",
    "outputId": "d1bd16ad-f1b3-4cde-eba3-53be637b76d5"
   },
   "outputs": [
    {
     "name": "stdout",
     "output_type": "stream",
     "text": [
      "[-0.04142114 -0.04307921 -0.04465915 -0.03976443 -0.04902567]\n"
     ]
    }
   ],
   "source": [
    "from sklearn.model_selection import cross_val_score\n",
    "\n",
    "#get the MSE\n",
    "mse_lr_cv = cross_val_score(linear_reg_pipeline, train, train[[target]], cv=5, scoring='neg_mean_squared_error')\n",
    "print(mse_lr_cv)"
   ]
  },
  {
   "cell_type": "code",
   "execution_count": 7,
   "id": "00486396",
   "metadata": {},
   "outputs": [
    {
     "name": "stdout",
     "output_type": "stream",
     "text": [
      "0.04358991987909061\n"
     ]
    }
   ],
   "source": [
    "mse_lr_cv = cross_val_score(linear_reg_pipeline, train, train[[target]], cv=5, scoring='neg_mean_squared_error')\n",
    "print(-np.mean(mse_lr_cv))"
   ]
  },
  {
   "cell_type": "code",
   "execution_count": 9,
   "id": "6bff9bbd",
   "metadata": {},
   "outputs": [
    {
     "name": "stdout",
     "output_type": "stream",
     "text": [
      "0.8464072905351188\n"
     ]
    }
   ],
   "source": [
    "#get the R2\n",
    "mse_lr_cv = cross_val_score(linear_reg_pipeline, train, train[[target]], cv=10, scoring='r2')\n",
    "print(np.mean(mse_lr_cv))"
   ]
  },
  {
   "cell_type": "markdown",
   "id": "80de0e79",
   "metadata": {},
   "source": [
    "## Cross-validation prediction"
   ]
  },
  {
   "cell_type": "code",
   "execution_count": 10,
   "id": "18c1ceab",
   "metadata": {},
   "outputs": [
    {
     "name": "stdout",
     "output_type": "stream",
     "text": [
      "training mse:  0.04358991987909061\n",
      "training r2:  0.8484520155783549\n"
     ]
    }
   ],
   "source": [
    "from sklearn.model_selection import cross_val_predict\n",
    "from sklearn.metrics import mean_squared_error, r2_score\n",
    "\n",
    "trainY_pred = cross_val_predict(linear_reg_pipeline, train, train[[target]])\n",
    "print('training mse: ', mean_squared_error(train[[target]], trainY_pred))\n",
    "print('training r2: ', r2_score(train[[target]], trainY_pred))"
   ]
  }
 ],
 "metadata": {
  "colab": {
   "provenance": []
  },
  "kernelspec": {
   "display_name": "Python 3 (ipykernel)",
   "language": "python",
   "name": "python3"
  },
  "language_info": {
   "codemirror_mode": {
    "name": "ipython",
    "version": 3
   },
   "file_extension": ".py",
   "mimetype": "text/x-python",
   "name": "python",
   "nbconvert_exporter": "python",
   "pygments_lexer": "ipython3",
   "version": "3.9.12"
  }
 },
 "nbformat": 4,
 "nbformat_minor": 5
}
