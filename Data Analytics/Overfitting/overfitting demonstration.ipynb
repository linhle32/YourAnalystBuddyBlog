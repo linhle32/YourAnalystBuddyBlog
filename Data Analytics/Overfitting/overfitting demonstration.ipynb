{
 "cells": [
  {
   "cell_type": "markdown",
   "metadata": {},
   "source": [
    "The complete explanation for this notebook is available at https://youranalystbuddy.com/the-overfitting-problem/"
   ]
  },
  {
   "cell_type": "markdown",
   "metadata": {},
   "source": [
    "## Overfitting demonstration\n",
    "\n",
    "data and pipelines are just like before \n",
    "\n",
    "### Loading data and categorical pipeline"
   ]
  },
  {
   "cell_type": "code",
   "execution_count": 1,
   "metadata": {},
   "outputs": [],
   "source": [
    "import pandas as pd\n",
    "import numpy as np\n",
    "from sklearn.model_selection import train_test_split\n",
    "\n",
    "data = pd.read_csv('auto-mpg.csv')\n",
    "\n",
    "train, test = train_test_split(data, test_size=0.2)\n",
    "\n",
    "num_cols = ['cylinders', 'displacement', 'horsepower', 'weight', 'acceleration', 'year']\n",
    "cat_cols = ['origin']\n",
    "target = 'mpg'\n",
    "\n",
    "from sklearn.pipeline import Pipeline\n",
    "from sklearn.preprocessing import StandardScaler\n",
    "from sklearn.preprocessing import OneHotEncoder\n",
    "from sklearn.impute import SimpleImputer\n",
    "from sklearn.compose import ColumnTransformer\n",
    "from sklearn.linear_model import LinearRegression\n",
    "from sklearn.preprocessing import PolynomialFeatures\n",
    "\n",
    "#pipeline for class features\n",
    "cat_pipeline = Pipeline([\n",
    "    ('encoder', OneHotEncoder())\n",
    "])"
   ]
  },
  {
   "cell_type": "markdown",
   "metadata": {},
   "source": [
    "### Linear model"
   ]
  },
  {
   "cell_type": "code",
   "execution_count": 2,
   "metadata": {},
   "outputs": [],
   "source": [
    "#pipeline for numeric features\n",
    "num_pipeline_linear = Pipeline([    \n",
    "    ('impute', SimpleImputer(strategy='median')),\n",
    "    ('standardize', StandardScaler())\n",
    "])\n",
    "\n",
    "#full data pipeline\n",
    "data_pipeline_linear = ColumnTransformer([\n",
    "    ('numeric', num_pipeline_linear, num_cols),\n",
    "    ('class', cat_pipeline, cat_cols)\n",
    "])\n",
    "\n",
    "#model pipeline\n",
    "linear_reg_pipeline = Pipeline([\n",
    "    ('processing', data_pipeline_linear),\n",
    "    ('modeling', LinearRegression())\n",
    "])"
   ]
  },
  {
   "cell_type": "markdown",
   "metadata": {},
   "source": [
    "#### measurements in training and testing data"
   ]
  },
  {
   "cell_type": "code",
   "execution_count": 3,
   "metadata": {},
   "outputs": [
    {
     "name": "stdout",
     "output_type": "stream",
     "text": [
      "training R2: 0.835723005971064\n",
      "testing R2: 0.7760959508464778\n"
     ]
    }
   ],
   "source": [
    "linear_reg_pipeline.fit(train, train[[target]])\n",
    "\n",
    "print('training R2:', linear_reg_pipeline.score(train, train[[target]]))\n",
    "print('testing R2:', linear_reg_pipeline.score(test, test[[target]]))"
   ]
  },
  {
   "cell_type": "markdown",
   "metadata": {},
   "source": [
    "### Quadratic model"
   ]
  },
  {
   "cell_type": "code",
   "execution_count": 4,
   "metadata": {},
   "outputs": [],
   "source": [
    "#pipeline for numeric features\n",
    "num_pipeline_poly2 = Pipeline([    \n",
    "    ('impute', SimpleImputer(strategy='median')),\n",
    "    ('quadratic features', PolynomialFeatures(degree=2)),\n",
    "    ('standardize', StandardScaler())\n",
    "])\n",
    "\n",
    "#full data pipeline\n",
    "data_pipeline_poly2 = ColumnTransformer([\n",
    "    ('numeric', num_pipeline_poly2, num_cols),\n",
    "    ('class', cat_pipeline, cat_cols)\n",
    "])\n",
    "\n",
    "#model pipeline\n",
    "poly2_reg_pipeline = Pipeline([\n",
    "    ('processing', data_pipeline_poly2),\n",
    "    ('modeling', LinearRegression())\n",
    "])"
   ]
  },
  {
   "cell_type": "markdown",
   "metadata": {},
   "source": [
    "#### measurements in training and testing data"
   ]
  },
  {
   "cell_type": "code",
   "execution_count": 5,
   "metadata": {},
   "outputs": [
    {
     "name": "stdout",
     "output_type": "stream",
     "text": [
      "training R2: 0.8920039412387385\n",
      "testing R2: 0.8115434439880399\n"
     ]
    }
   ],
   "source": [
    "poly2_reg_pipeline.fit(train, train[[target]])\n",
    "\n",
    "print('training R2:', poly2_reg_pipeline.score(train, train[[target]]))\n",
    "print('testing R2:', poly2_reg_pipeline.score(test, test[[target]]))"
   ]
  },
  {
   "cell_type": "markdown",
   "metadata": {},
   "source": [
    "### Cubic model"
   ]
  },
  {
   "cell_type": "code",
   "execution_count": 6,
   "metadata": {},
   "outputs": [],
   "source": [
    "#pipeline for numeric features\n",
    "num_pipeline_poly3 = Pipeline([    \n",
    "    ('impute', SimpleImputer(strategy='median')),\n",
    "    ('quadratic features', PolynomialFeatures(degree=3)),\n",
    "    ('standardize', StandardScaler())\n",
    "])\n",
    "\n",
    "#full data pipeline\n",
    "data_pipeline_poly3 = ColumnTransformer([\n",
    "    ('numeric', num_pipeline_poly3, num_cols),\n",
    "    ('class', cat_pipeline, cat_cols)\n",
    "])\n",
    "\n",
    "#model pipeline\n",
    "poly3_reg_pipeline = Pipeline([\n",
    "    ('processing', data_pipeline_poly3),\n",
    "    ('modeling', LinearRegression())\n",
    "])"
   ]
  },
  {
   "cell_type": "markdown",
   "metadata": {},
   "source": [
    "#### measurements in training and testing data"
   ]
  },
  {
   "cell_type": "code",
   "execution_count": 7,
   "metadata": {},
   "outputs": [
    {
     "name": "stdout",
     "output_type": "stream",
     "text": [
      "training R2: 0.9353098210465611\n",
      "testing R2: 0.5525286388346851\n"
     ]
    }
   ],
   "source": [
    "poly3_reg_pipeline.fit(train, train[[target]])\n",
    "\n",
    "print('training R2:', poly3_reg_pipeline.score(train, train[[target]]))\n",
    "print('testing R2:', poly3_reg_pipeline.score(test, test[[target]]))"
   ]
  },
  {
   "cell_type": "markdown",
   "metadata": {},
   "source": [
    "### Bi-quadratic model"
   ]
  },
  {
   "cell_type": "code",
   "execution_count": 8,
   "metadata": {},
   "outputs": [],
   "source": [
    "#pipeline for numeric features\n",
    "num_pipeline_poly4 = Pipeline([    \n",
    "    ('impute', SimpleImputer(strategy='median')),\n",
    "    ('quadratic features', PolynomialFeatures(degree=4)),\n",
    "    ('standardize', StandardScaler())\n",
    "])\n",
    "\n",
    "#full data pipeline\n",
    "data_pipeline_poly4 = ColumnTransformer([\n",
    "    ('numeric', num_pipeline_poly4, num_cols),\n",
    "    ('class', cat_pipeline, cat_cols)\n",
    "])\n",
    "\n",
    "#model pipeline\n",
    "poly4_reg_pipeline = Pipeline([\n",
    "    ('processing', data_pipeline_poly4),\n",
    "    ('modeling', LinearRegression())\n",
    "])"
   ]
  },
  {
   "cell_type": "markdown",
   "metadata": {},
   "source": [
    "#### measurements in training and testing data"
   ]
  },
  {
   "cell_type": "code",
   "execution_count": 9,
   "metadata": {},
   "outputs": [
    {
     "name": "stdout",
     "output_type": "stream",
     "text": [
      "training R2: 0.9586116405583816\n",
      "testing R2: -411.12073625815236\n"
     ]
    }
   ],
   "source": [
    "poly4_reg_pipeline.fit(train, train[[target]])\n",
    "\n",
    "print('training R2:', poly4_reg_pipeline.score(train, train[[target]]))\n",
    "print('testing R2:', poly4_reg_pipeline.score(test, test[[target]]))"
   ]
  }
 ],
 "metadata": {
  "kernelspec": {
   "display_name": "Python 3 (ipykernel)",
   "language": "python",
   "name": "python3"
  },
  "language_info": {
   "codemirror_mode": {
    "name": "ipython",
    "version": 3
   },
   "file_extension": ".py",
   "mimetype": "text/x-python",
   "name": "python",
   "nbconvert_exporter": "python",
   "pygments_lexer": "ipython3",
   "version": "3.9.12"
  }
 },
 "nbformat": 4,
 "nbformat_minor": 2
}
