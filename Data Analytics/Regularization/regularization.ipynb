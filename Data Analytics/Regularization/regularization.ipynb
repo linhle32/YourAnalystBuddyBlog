{
 "cells": [
  {
   "cell_type": "markdown",
   "metadata": {},
   "source": [
    "The complete explanation for this notebook is available at https://youranalystbuddy.com/regularization/"
   ]
  },
  {
   "cell_type": "markdown",
   "metadata": {},
   "source": [
    "## Overfitting demonstration - cubic models in auto-mpg data\n",
    "\n",
    "data and pipeline are just like before "
   ]
  },
  {
   "cell_type": "code",
   "execution_count": 1,
   "metadata": {},
   "outputs": [],
   "source": [
    "import pandas as pd\n",
    "import numpy as np\n",
    "from sklearn.model_selection import train_test_split\n",
    "\n",
    "data = pd.read_csv('auto-mpg.csv')\n",
    "\n",
    "train, test = train_test_split(data, test_size=0.2)\n",
    "\n",
    "num_cols = ['cylinders', 'displacement', 'horsepower', 'weight', 'acceleration', 'year']\n",
    "cat_cols = ['origin']\n",
    "target = 'mpg'\n",
    "\n",
    "from sklearn.pipeline import Pipeline\n",
    "from sklearn.preprocessing import StandardScaler\n",
    "from sklearn.preprocessing import OneHotEncoder\n",
    "from sklearn.impute import SimpleImputer\n",
    "from sklearn.compose import ColumnTransformer\n",
    "from sklearn.linear_model import LinearRegression\n",
    "from sklearn.preprocessing import PolynomialFeatures\n",
    "\n",
    "#pipeline for class features\n",
    "cat_pipeline = Pipeline([\n",
    "    ('encoder', OneHotEncoder())\n",
    "])"
   ]
  },
  {
   "cell_type": "markdown",
   "metadata": {},
   "source": [
    "### measurements in training and testing data"
   ]
  },
  {
   "cell_type": "code",
   "execution_count": 8,
   "metadata": {},
   "outputs": [
    {
     "data": {
      "text/plain": [
       "0.7284627674958539"
      ]
     },
     "execution_count": 8,
     "metadata": {},
     "output_type": "execute_result"
    }
   ],
   "source": [
    "#pipeline for numeric features\n",
    "num_pipeline_poly3 = Pipeline([    \n",
    "    ('impute', SimpleImputer(strategy='median')),\n",
    "    ('polynomial', PolynomialFeatures(degree=3)),\n",
    "    ('standardize', StandardScaler()),\n",
    "])\n",
    "\n",
    "#full processing pipeline\n",
    "data_pipeline_poly3 = ColumnTransformer([\n",
    "    ('numeric', num_pipeline_poly3, num_cols),\n",
    "    ('class', cat_pipeline, cat_cols)\n",
    "])\n",
    "\n",
    "#model pipeline\n",
    "poly3_reg_pipeline = Pipeline([\n",
    "    ('processing', data_pipeline_poly3),\n",
    "    ('modeling', LinearRegression())\n",
    "])\n",
    "\n",
    "poly3_reg_pipeline.fit(train, train[[target]])\n",
    "\n",
    "from sklearn.model_selection import cross_val_score\n",
    "r2_10cv = cross_val_score(poly3_reg_pipeline, train, train[[target]], cv=10, scoring='r2')\n",
    "np.mean(r2_10cv)"
   ]
  },
  {
   "cell_type": "markdown",
   "metadata": {},
   "source": [
    "## Ridge regression on cubic data"
   ]
  },
  {
   "cell_type": "code",
   "execution_count": 4,
   "metadata": {},
   "outputs": [
    {
     "data": {
      "text/plain": [
       "0.8531922643781689"
      ]
     },
     "execution_count": 4,
     "metadata": {},
     "output_type": "execute_result"
    }
   ],
   "source": [
    "from sklearn.linear_model import Ridge\n",
    "\n",
    "ridge_reg_pipeline = Pipeline([\n",
    "    ('processing', data_pipeline_poly3),\n",
    "    ('modeling', Ridge())\n",
    "])\n",
    "\n",
    "r2_10cv = cross_val_score(ridge_reg_pipeline, train, train[[target]], cv=10, scoring='r2')\n",
    "np.mean(r2_10cv)"
   ]
  },
  {
   "cell_type": "code",
   "execution_count": 9,
   "metadata": {},
   "outputs": [
    {
     "data": {
      "text/plain": [
       "(318, 87)"
      ]
     },
     "execution_count": 9,
     "metadata": {},
     "output_type": "execute_result"
    }
   ],
   "source": [
    "data_pipeline_poly3.transform(train).shape"
   ]
  },
  {
   "cell_type": "markdown",
   "metadata": {},
   "source": [
    "## Ridge regression on quadratic data"
   ]
  },
  {
   "cell_type": "code",
   "execution_count": 5,
   "metadata": {},
   "outputs": [
    {
     "data": {
      "text/plain": [
       "0.8518732915328598"
      ]
     },
     "execution_count": 5,
     "metadata": {},
     "output_type": "execute_result"
    }
   ],
   "source": [
    "num_pipeline_poly2 = Pipeline([    \n",
    "    ('impute', SimpleImputer(strategy='median')),\n",
    "    ('polynomial', PolynomialFeatures(degree=2)),\n",
    "    ('standardize', StandardScaler()),\n",
    "])\n",
    "\n",
    "data_pipeline_poly2 = ColumnTransformer([\n",
    "    ('numeric', num_pipeline_poly2, num_cols),\n",
    "    ('class', cat_pipeline, cat_cols)\n",
    "])\n",
    "\n",
    "ridge_reg_pipeline_2 = Pipeline([\n",
    "    ('processing', data_pipeline_poly2),\n",
    "    ('modeling', Ridge())\n",
    "])\n",
    "\n",
    "r2_10cv = cross_val_score(ridge_reg_pipeline_2, train, train[[target]], cv=10, scoring='r2')\n",
    "np.mean(r2_10cv)"
   ]
  },
  {
   "cell_type": "code",
   "execution_count": 11,
   "metadata": {},
   "outputs": [
    {
     "data": {
      "text/plain": [
       "(318, 31)"
      ]
     },
     "execution_count": 11,
     "metadata": {},
     "output_type": "execute_result"
    }
   ],
   "source": [
    "data_pipeline_poly2.fit_transform(train).shape"
   ]
  },
  {
   "cell_type": "markdown",
   "metadata": {},
   "source": [
    "## How about bi-quadratic?"
   ]
  },
  {
   "cell_type": "code",
   "execution_count": 6,
   "metadata": {},
   "outputs": [
    {
     "data": {
      "text/plain": [
       "0.8556905493636462"
      ]
     },
     "execution_count": 6,
     "metadata": {},
     "output_type": "execute_result"
    }
   ],
   "source": [
    "num_pipeline_poly4 = Pipeline([    \n",
    "    ('impute', SimpleImputer(strategy='median')),\n",
    "    ('polynomial', PolynomialFeatures(degree=4)),\n",
    "    ('standardize', StandardScaler()),\n",
    "])\n",
    "\n",
    "data_pipeline_poly4 = ColumnTransformer([\n",
    "    ('numeric', num_pipeline_poly4, num_cols),\n",
    "    ('class', cat_pipeline, cat_cols)\n",
    "])\n",
    "\n",
    "ridge_reg_pipeline_4 = Pipeline([\n",
    "    ('processing', data_pipeline_poly4),\n",
    "    ('modeling', Ridge())\n",
    "])\n",
    "\n",
    "r2_10cv = cross_val_score(ridge_reg_pipeline_4, train, train[[target]], cv=10, scoring='r2')\n",
    "np.mean(r2_10cv)"
   ]
  },
  {
   "cell_type": "code",
   "execution_count": 13,
   "metadata": {},
   "outputs": [
    {
     "data": {
      "text/plain": [
       "(318, 213)"
      ]
     },
     "execution_count": 13,
     "metadata": {},
     "output_type": "execute_result"
    }
   ],
   "source": [
    "data_pipeline_poly4.fit_transform(train).shape"
   ]
  },
  {
   "cell_type": "markdown",
   "metadata": {},
   "source": [
    "### Linear model for reference"
   ]
  },
  {
   "cell_type": "code",
   "execution_count": 7,
   "metadata": {},
   "outputs": [
    {
     "data": {
      "text/plain": [
       "0.8060313624814313"
      ]
     },
     "execution_count": 7,
     "metadata": {},
     "output_type": "execute_result"
    }
   ],
   "source": [
    "num_pipeline_linear = Pipeline([    \n",
    "    ('impute', SimpleImputer(strategy='median')),\n",
    "    ('standardize', StandardScaler()),\n",
    "])\n",
    "\n",
    "data_pipeline_linear = ColumnTransformer([\n",
    "    ('numeric', num_pipeline_linear, num_cols),\n",
    "    ('class', cat_pipeline, cat_cols)\n",
    "])\n",
    "\n",
    "linear_reg_pipeline = Pipeline([\n",
    "    ('processing', data_pipeline_linear),\n",
    "    ('modeling', LinearRegression())\n",
    "])\n",
    "\n",
    "r2_10cv = cross_val_score(linear_reg_pipeline, train, train[[target]], cv=10, scoring='r2')\n",
    "np.mean(r2_10cv)"
   ]
  }
 ],
 "metadata": {
  "kernelspec": {
   "display_name": "Python 3 (ipykernel)",
   "language": "python",
   "name": "python3"
  },
  "language_info": {
   "codemirror_mode": {
    "name": "ipython",
    "version": 3
   },
   "file_extension": ".py",
   "mimetype": "text/x-python",
   "name": "python",
   "nbconvert_exporter": "python",
   "pygments_lexer": "ipython3",
   "version": "3.9.12"
  }
 },
 "nbformat": 4,
 "nbformat_minor": 2
}
