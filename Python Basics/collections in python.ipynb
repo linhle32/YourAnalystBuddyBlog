{
 "cells": [
  {
   "cell_type": "markdown",
   "id": "5d823d81",
   "metadata": {},
   "source": [
    "The complete explanation for this code is available at https://youranalystbuddy.com/collections-in-python/\n",
    "\n",
    "<h3> List </h3>\n",
    "\n",
    "A list is a <b>collection</b> type in Python that can be used to store multiple items. We create a list with the below syntax\n",
    "\n",
    "<b>list_name = [&lt;val_1&gt;, &lt;val_2&gt;, ...]</b>\n",
    "\n",
    "- list items can be anything, as long as the individual items are defined (i.e. in case they are variables)\n",
    "- a list can contain a mixture of data types\n",
    "- a list can contain as many items as you want, as long as your computer has enough memory\n",
    "\n",
    "For example"
   ]
  },
  {
   "cell_type": "code",
   "execution_count": 1,
   "id": "3847c514",
   "metadata": {},
   "outputs": [
    {
     "name": "stdout",
     "output_type": "stream",
     "text": [
      "[1, 2, 3, 4, 5]\n"
     ]
    }
   ],
   "source": [
    "#a list of number\n",
    "a_list = [1,2,3,4,5]\n",
    "\n",
    "#we can use print() to print out all items in a list\n",
    "print(a_list)"
   ]
  },
  {
   "cell_type": "code",
   "execution_count": 2,
   "id": "39426873",
   "metadata": {},
   "outputs": [
    {
     "name": "stdout",
     "output_type": "stream",
     "text": [
      "['a', 'b', 'c', 'd', 'e']\n"
     ]
    }
   ],
   "source": [
    "#a list of string\n",
    "another_list = ['a','b','c','d','e']\n",
    "print(another_list)"
   ]
  },
  {
   "cell_type": "code",
   "execution_count": 3,
   "id": "e8a0f200",
   "metadata": {},
   "outputs": [
    {
     "name": "stdout",
     "output_type": "stream",
     "text": [
      "[1, 2, 3, 4, 5, 'a', 'b', 'c', 'd', 'e']\n"
     ]
    }
   ],
   "source": [
    "#a list of number and string\n",
    "list_3 = [1,2,3,4,5,'a','b','c','d','e']\n",
    "print(list_3)"
   ]
  },
  {
   "cell_type": "markdown",
   "id": "80f79cab",
   "metadata": {},
   "source": [
    "#### Indexes in lists\n",
    "\n",
    "Items in a list can be accessed through index or a loop"
   ]
  },
  {
   "cell_type": "code",
   "execution_count": 4,
   "id": "9b7b9c63",
   "metadata": {
    "scrolled": true
   },
   "outputs": [
    {
     "name": "stdout",
     "output_type": "stream",
     "text": [
      "10\n",
      "4\n",
      "61\n",
      "73\n"
     ]
    }
   ],
   "source": [
    "a_list = [10,4,6,6,12,61,78,34,90,73]\n",
    "\n",
    "print(a_list[0])\n",
    "print(a_list[1])\n",
    "print(a_list[5])\n",
    "print(a_list[9])"
   ]
  },
  {
   "cell_type": "markdown",
   "id": "4bb50d37",
   "metadata": {},
   "source": [
    "#### List and for loop"
   ]
  },
  {
   "cell_type": "code",
   "execution_count": 5,
   "id": "1d0221fb",
   "metadata": {},
   "outputs": [
    {
     "name": "stdout",
     "output_type": "stream",
     "text": [
      "10\n",
      "4\n",
      "6\n",
      "6\n",
      "12\n",
      "61\n",
      "78\n",
      "34\n",
      "90\n",
      "73\n"
     ]
    }
   ],
   "source": [
    "for item in a_list:\n",
    "    print(item)"
   ]
  },
  {
   "cell_type": "code",
   "execution_count": 6,
   "id": "3ef66862",
   "metadata": {},
   "outputs": [
    {
     "name": "stdout",
     "output_type": "stream",
     "text": [
      "374\n"
     ]
    }
   ],
   "source": [
    "accumulator = 0\n",
    "\n",
    "for item in a_list:\n",
    "    accumulator = accumulator + item\n",
    "\n",
    "print(accumulator)"
   ]
  },
  {
   "cell_type": "markdown",
   "id": "349cbb6e",
   "metadata": {},
   "source": [
    "#### List slicing"
   ]
  },
  {
   "cell_type": "code",
   "execution_count": 7,
   "id": "68f915d4",
   "metadata": {},
   "outputs": [
    {
     "data": {
      "text/plain": [
       "[10, 4, 6, 6, 12]"
      ]
     },
     "execution_count": 7,
     "metadata": {},
     "output_type": "execute_result"
    }
   ],
   "source": [
    "a_list[0:5]"
   ]
  },
  {
   "cell_type": "code",
   "execution_count": 8,
   "id": "1778cc15",
   "metadata": {},
   "outputs": [
    {
     "data": {
      "text/plain": [
       "[6, 12, 61, 78, 34, 90]"
      ]
     },
     "execution_count": 8,
     "metadata": {},
     "output_type": "execute_result"
    }
   ],
   "source": [
    "a_list[3:9]"
   ]
  },
  {
   "cell_type": "code",
   "execution_count": 9,
   "id": "07053aef",
   "metadata": {},
   "outputs": [
    {
     "data": {
      "text/plain": [
       "[6, 6, 12, 61, 78, 34, 90]"
      ]
     },
     "execution_count": 9,
     "metadata": {},
     "output_type": "execute_result"
    }
   ],
   "source": [
    "a_list[2:-1]"
   ]
  },
  {
   "cell_type": "code",
   "execution_count": 10,
   "id": "ffdd544b",
   "metadata": {},
   "outputs": [
    {
     "data": {
      "text/plain": [
       "[4, 6, 61, 34]"
      ]
     },
     "execution_count": 10,
     "metadata": {},
     "output_type": "execute_result"
    }
   ],
   "source": [
    "a_list[1:-2:2]"
   ]
  },
  {
   "cell_type": "code",
   "execution_count": 11,
   "id": "e1b2d979",
   "metadata": {},
   "outputs": [
    {
     "data": {
      "text/plain": [
       "[90, 78, 12]"
      ]
     },
     "execution_count": 11,
     "metadata": {},
     "output_type": "execute_result"
    }
   ],
   "source": [
    "a_list[8:3:-2]"
   ]
  },
  {
   "cell_type": "code",
   "execution_count": 12,
   "id": "57db525e",
   "metadata": {},
   "outputs": [
    {
     "data": {
      "text/plain": [
       "[73, 90, 34, 78, 61, 12, 6, 6, 4, 10]"
      ]
     },
     "execution_count": 12,
     "metadata": {},
     "output_type": "execute_result"
    }
   ],
   "source": [
    "a_list[::-1]"
   ]
  },
  {
   "cell_type": "markdown",
   "id": "81a4862a",
   "metadata": {},
   "source": [
    "### Tuples\n",
    "\n",
    "Tuples are similar to list in that they both store items in order. You can also access items in tuples using indexes and slices. \n",
    "\n",
    "The difference between tuples and lists is that lists are mutable and tuples are immutable. More specifically, you can change items in a list after creating it, but items in a tuple cannot be modified. The cells below demonstrate the mutability and immutability of lists and tuples. \n",
    "\n",
    "Creating tuples is just like creating lists but simply replacing the brackets [] with parentheses ()"
   ]
  },
  {
   "cell_type": "code",
   "execution_count": 13,
   "id": "701913be",
   "metadata": {},
   "outputs": [
    {
     "name": "stdout",
     "output_type": "stream",
     "text": [
      "[10, 100, 30]\n"
     ]
    }
   ],
   "source": [
    "a_list = [10,20,30]\n",
    "a_list[1] = 100\n",
    "print(a_list)"
   ]
  },
  {
   "cell_type": "code",
   "execution_count": 14,
   "id": "b3615cc4",
   "metadata": {},
   "outputs": [
    {
     "name": "stdout",
     "output_type": "stream",
     "text": [
      "(10, 20, 30)\n"
     ]
    }
   ],
   "source": [
    "a_tuple = (10,20,30)\n",
    "print(a_tuple)"
   ]
  },
  {
   "cell_type": "code",
   "execution_count": 15,
   "id": "e6c34afd",
   "metadata": {},
   "outputs": [
    {
     "ename": "TypeError",
     "evalue": "'tuple' object does not support item assignment",
     "output_type": "error",
     "traceback": [
      "\u001b[1;31m---------------------------------------------------------------------------\u001b[0m",
      "\u001b[1;31mTypeError\u001b[0m                                 Traceback (most recent call last)",
      "Input \u001b[1;32mIn [15]\u001b[0m, in \u001b[0;36m<cell line: 1>\u001b[1;34m()\u001b[0m\n\u001b[1;32m----> 1\u001b[0m a_tuple[\u001b[38;5;241m1\u001b[39m] \u001b[38;5;241m=\u001b[39m \u001b[38;5;241m100\u001b[39m\n",
      "\u001b[1;31mTypeError\u001b[0m: 'tuple' object does not support item assignment"
     ]
    }
   ],
   "source": [
    "a_tuple[1] = 100"
   ]
  },
  {
   "cell_type": "markdown",
   "id": "2dd24113",
   "metadata": {},
   "source": [
    "<h3>Dictionary</h3>\n",
    "\n",
    "Is another type of collections in Python (recall, the other two we have discussed are list and tuple). Dictionaries store elements that are called <b>key-value</b> pairs. A key-value pair is similar to a word and its meaning that you can look up in a real dictionary. With Python dictionaries, you can use a key to locate a specific value.\n",
    "\n",
    "Dictionaries are created using the curly brackets <b>{}</b>, the syntax is as\n",
    "\n",
    "<b>\n",
    "    dictionary_name = { <br>\n",
    "        &emsp;key_1 : value_1, <br>\n",
    "        &emsp;key_2 : value_2, <br>\n",
    "        &emsp;#... <br>\n",
    "    }\n",
    "</b>\n",
    "\n",
    "To obtain the value of a key, we use the syntax\n",
    "\n",
    "<b>dictionary_name[key]</b>\n",
    "\n",
    "so, similar to a list, but the index is a key.\n",
    "\n",
    "Some example:\n",
    "\n",
    "- Create a new dictionary"
   ]
  },
  {
   "cell_type": "code",
   "execution_count": 16,
   "id": "8dc219aa",
   "metadata": {},
   "outputs": [
    {
     "data": {
      "text/plain": [
       "{'New York': 'Albany',\n",
       " 'New Jersey': 'Trenton',\n",
       " 'Georgia': 'Atlanta',\n",
       " 'Texas': 'Austin',\n",
       " 'Washington': 'Olympia'}"
      ]
     },
     "execution_count": 16,
     "metadata": {},
     "output_type": "execute_result"
    }
   ],
   "source": [
    "state_capitals={\n",
    "    'New York': 'Albany',\n",
    "    'New Jersey': 'Trenton',\n",
    "    'Georgia' : 'Atlanta',\n",
    "    'Texas' : 'Austin',\n",
    "    'Washington' : 'Olympia'\n",
    "}\n",
    "state_capitals"
   ]
  },
  {
   "cell_type": "code",
   "execution_count": 17,
   "id": "23506d92",
   "metadata": {},
   "outputs": [
    {
     "name": "stdout",
     "output_type": "stream",
     "text": [
      "{'New York': 'Albany', 'New Jersey': 'Trenton', 'Georgia': 'Atlanta', 'Texas': 'Austin', 'Washington': 'Olympia'}\n"
     ]
    }
   ],
   "source": [
    "print(state_capitals)"
   ]
  },
  {
   "cell_type": "markdown",
   "id": "c1ae4279",
   "metadata": {},
   "source": [
    "- then access values by \"looking up\" key"
   ]
  },
  {
   "cell_type": "code",
   "execution_count": 18,
   "id": "03dcff77",
   "metadata": {},
   "outputs": [
    {
     "data": {
      "text/plain": [
       "'Albany'"
      ]
     },
     "execution_count": 18,
     "metadata": {},
     "output_type": "execute_result"
    }
   ],
   "source": [
    "state_capitals['New York']"
   ]
  },
  {
   "cell_type": "markdown",
   "id": "1c4b43fd",
   "metadata": {},
   "source": [
    "Finally, we can add new key-value pairs to a dictionary by the syntax \n",
    "\n",
    "<b>dictionary_name[new_key] = new_value</b>\n",
    "\n",
    "Be careful though, because if new_key is already in the dictionary, the old value will be overwritten. For example"
   ]
  },
  {
   "cell_type": "code",
   "execution_count": 19,
   "id": "66c744ab",
   "metadata": {},
   "outputs": [],
   "source": [
    "state_capitals['Florida'] = 'Tallahassee'\n",
    "state_capitals['Alabama'] = 'Montgomery'"
   ]
  },
  {
   "cell_type": "code",
   "execution_count": 20,
   "id": "e819f711",
   "metadata": {},
   "outputs": [
    {
     "data": {
      "text/plain": [
       "'Tallahassee'"
      ]
     },
     "execution_count": 20,
     "metadata": {},
     "output_type": "execute_result"
    }
   ],
   "source": [
    "state_capitals['Florida'] "
   ]
  },
  {
   "cell_type": "code",
   "execution_count": 21,
   "id": "7e2ec0bc",
   "metadata": {},
   "outputs": [],
   "source": [
    "state_capitals['New York'] = \"I don't know!\""
   ]
  },
  {
   "cell_type": "code",
   "execution_count": 22,
   "id": "b2235f16",
   "metadata": {},
   "outputs": [
    {
     "data": {
      "text/plain": [
       "\"I don't know!\""
      ]
     },
     "execution_count": 22,
     "metadata": {},
     "output_type": "execute_result"
    }
   ],
   "source": [
    "state_capitals['New York']"
   ]
  }
 ],
 "metadata": {
  "kernelspec": {
   "display_name": "Python 3 (ipykernel)",
   "language": "python",
   "name": "python3"
  },
  "language_info": {
   "codemirror_mode": {
    "name": "ipython",
    "version": 3
   },
   "file_extension": ".py",
   "mimetype": "text/x-python",
   "name": "python",
   "nbconvert_exporter": "python",
   "pygments_lexer": "ipython3",
   "version": "3.9.12"
  }
 },
 "nbformat": 4,
 "nbformat_minor": 5
}
