{
 "cells": [
  {
   "cell_type": "markdown",
   "id": "6b90267a",
   "metadata": {},
   "source": [
    "The complete explanation for this notebook is available at https://youranalystbuddy.com/functions-in-python/"
   ]
  },
  {
   "cell_type": "markdown",
   "id": "68c74ae5",
   "metadata": {},
   "source": [
    "### More built in functions"
   ]
  },
  {
   "cell_type": "markdown",
   "id": "c477e744",
   "metadata": {},
   "source": [
    "First is the type() function. Just like its name says, type() returns the type of whatever input that you gave it."
   ]
  },
  {
   "cell_type": "code",
   "execution_count": 1,
   "id": "f0d60d71",
   "metadata": {},
   "outputs": [
    {
     "data": {
      "text/plain": [
       "int"
      ]
     },
     "execution_count": 1,
     "metadata": {},
     "output_type": "execute_result"
    }
   ],
   "source": [
    "type(10)"
   ]
  },
  {
   "cell_type": "code",
   "execution_count": 2,
   "id": "04190f2d",
   "metadata": {},
   "outputs": [
    {
     "data": {
      "text/plain": [
       "float"
      ]
     },
     "execution_count": 2,
     "metadata": {},
     "output_type": "execute_result"
    }
   ],
   "source": [
    "type(1.6)"
   ]
  },
  {
   "cell_type": "code",
   "execution_count": 3,
   "id": "130b4daa",
   "metadata": {},
   "outputs": [
    {
     "data": {
      "text/plain": [
       "str"
      ]
     },
     "execution_count": 3,
     "metadata": {},
     "output_type": "execute_result"
    }
   ],
   "source": [
    "type('hello')"
   ]
  },
  {
   "cell_type": "code",
   "execution_count": 4,
   "id": "f2930e83",
   "metadata": {},
   "outputs": [
    {
     "data": {
      "text/plain": [
       "int"
      ]
     },
     "execution_count": 4,
     "metadata": {},
     "output_type": "execute_result"
    }
   ],
   "source": [
    "num = 12345\n",
    "type(num)"
   ]
  },
  {
   "cell_type": "markdown",
   "id": "747df3d5",
   "metadata": {},
   "source": [
    "While we are at it, we can also cast variables to different types. Most commonly, we cast between integers, floats, and strings using <b>int()</b>, <b>float()</b>, and <b>str()</b>."
   ]
  },
  {
   "cell_type": "code",
   "execution_count": 5,
   "id": "768ebc3e",
   "metadata": {},
   "outputs": [
    {
     "data": {
      "text/plain": [
       "5"
      ]
     },
     "execution_count": 5,
     "metadata": {},
     "output_type": "execute_result"
    }
   ],
   "source": [
    "int(5.7)"
   ]
  },
  {
   "cell_type": "code",
   "execution_count": 6,
   "id": "91a45780",
   "metadata": {},
   "outputs": [
    {
     "data": {
      "text/plain": [
       "1.0"
      ]
     },
     "execution_count": 6,
     "metadata": {},
     "output_type": "execute_result"
    }
   ],
   "source": [
    "float(1)"
   ]
  },
  {
   "cell_type": "code",
   "execution_count": 7,
   "id": "6de10e1b",
   "metadata": {},
   "outputs": [
    {
     "data": {
      "text/plain": [
       "'15'"
      ]
     },
     "execution_count": 7,
     "metadata": {},
     "output_type": "execute_result"
    }
   ],
   "source": [
    "str(15)"
   ]
  },
  {
   "cell_type": "code",
   "execution_count": 8,
   "id": "8338bf0c",
   "metadata": {},
   "outputs": [
    {
     "data": {
      "text/plain": [
       "100"
      ]
     },
     "execution_count": 8,
     "metadata": {},
     "output_type": "execute_result"
    }
   ],
   "source": [
    "int('100')"
   ]
  },
  {
   "cell_type": "markdown",
   "id": "7a5c3bd9",
   "metadata": {},
   "source": [
    "you need to be careful when casting strings to numbers. If your inputs are not actual numbers (like 1...5 or abc), you will get an error"
   ]
  },
  {
   "cell_type": "code",
   "execution_count": 9,
   "id": "d760a36a",
   "metadata": {},
   "outputs": [
    {
     "ename": "ValueError",
     "evalue": "invalid literal for int() with base 10: 'abcxyz'",
     "output_type": "error",
     "traceback": [
      "\u001b[1;31m---------------------------------------------------------------------------\u001b[0m",
      "\u001b[1;31mValueError\u001b[0m                                Traceback (most recent call last)",
      "Input \u001b[1;32mIn [9]\u001b[0m, in \u001b[0;36m<cell line: 1>\u001b[1;34m()\u001b[0m\n\u001b[1;32m----> 1\u001b[0m \u001b[38;5;28;43mint\u001b[39;49m\u001b[43m(\u001b[49m\u001b[38;5;124;43m'\u001b[39;49m\u001b[38;5;124;43mabcxyz\u001b[39;49m\u001b[38;5;124;43m'\u001b[39;49m\u001b[43m)\u001b[49m\n",
      "\u001b[1;31mValueError\u001b[0m: invalid literal for int() with base 10: 'abcxyz'"
     ]
    }
   ],
   "source": [
    "int('abcxyz')"
   ]
  },
  {
   "cell_type": "markdown",
   "id": "ded2084d",
   "metadata": {},
   "source": [
    "### Functions from built-in libraries\n",
    "\n",
    "Libraries are also prewritten codes, however, at a bigger scale than functions. They come with other tools like new classes (in object-oriented programming, we will discuss this some times later), new data types, new error types, etc. Usually, a library provides functionalities of a particular topic.\n",
    "\n",
    "The math library is in base Python but needs import it before using. Basically, this library provides mathematical functions, so now you can use those like sin, cos, tan, log, etc. You can also find constant like pi or e here. "
   ]
  },
  {
   "cell_type": "code",
   "execution_count": 10,
   "id": "f8a181e5",
   "metadata": {},
   "outputs": [],
   "source": [
    "import math"
   ]
  },
  {
   "cell_type": "code",
   "execution_count": 11,
   "id": "0595e1b5",
   "metadata": {},
   "outputs": [
    {
     "data": {
      "text/plain": [
       "5040"
      ]
     },
     "execution_count": 11,
     "metadata": {},
     "output_type": "execute_result"
    }
   ],
   "source": [
    "math.factorial(7)"
   ]
  },
  {
   "cell_type": "code",
   "execution_count": 12,
   "id": "bdb04f8a",
   "metadata": {},
   "outputs": [
    {
     "data": {
      "text/plain": [
       "6.0"
      ]
     },
     "execution_count": 12,
     "metadata": {},
     "output_type": "execute_result"
    }
   ],
   "source": [
    "num2 = 64\n",
    "math.log2(num2)"
   ]
  },
  {
   "cell_type": "code",
   "execution_count": 13,
   "id": "0ed671a9",
   "metadata": {},
   "outputs": [
    {
     "data": {
      "text/plain": [
       "1.0"
      ]
     },
     "execution_count": 13,
     "metadata": {},
     "output_type": "execute_result"
    }
   ],
   "source": [
    "angle1 = math.pi / 2\n",
    "math.sin(angle1)"
   ]
  },
  {
   "cell_type": "markdown",
   "id": "ee89551d",
   "metadata": {},
   "source": [
    "<h3> User Defined Functions </h3>\n",
    "\n",
    "Writing functions allows wrapping codes into modules and reusing them as necessary. This is also called <b>modular programming</b>. A function can be written to take <b>input arguments</b> and <b>returns</b> values after execution."
   ]
  },
  {
   "cell_type": "code",
   "execution_count": 14,
   "id": "c4a74c07",
   "metadata": {},
   "outputs": [],
   "source": [
    "def sum_1_to_n(n):        \n",
    "    accumulator = 0\n",
    "    for num in range(n+1):\n",
    "        accumulator = accumulator + num\n",
    "    return accumulator"
   ]
  },
  {
   "cell_type": "code",
   "execution_count": 15,
   "id": "12545c96",
   "metadata": {},
   "outputs": [
    {
     "data": {
      "text/plain": [
       "55"
      ]
     },
     "execution_count": 15,
     "metadata": {},
     "output_type": "execute_result"
    }
   ],
   "source": [
    "sum_1_to_n(10)"
   ]
  },
  {
   "cell_type": "code",
   "execution_count": 16,
   "id": "c713c740",
   "metadata": {},
   "outputs": [
    {
     "data": {
      "text/plain": [
       "210"
      ]
     },
     "execution_count": 16,
     "metadata": {},
     "output_type": "execute_result"
    }
   ],
   "source": [
    "sum_1_to_n(20)"
   ]
  },
  {
   "cell_type": "code",
   "execution_count": 17,
   "id": "3fe1f50d",
   "metadata": {},
   "outputs": [
    {
     "data": {
      "text/plain": [
       "1275"
      ]
     },
     "execution_count": 17,
     "metadata": {},
     "output_type": "execute_result"
    }
   ],
   "source": [
    "sum_1_to_n(50)"
   ]
  },
  {
   "cell_type": "code",
   "execution_count": 18,
   "id": "2c303863",
   "metadata": {},
   "outputs": [
    {
     "name": "stdout",
     "output_type": "stream",
     "text": [
      "5050\n"
     ]
    }
   ],
   "source": [
    "sum_1_to_100 = sum_1_to_n(100)\n",
    "print(sum_1_to_100)"
   ]
  },
  {
   "cell_type": "code",
   "execution_count": 19,
   "id": "958a5771",
   "metadata": {},
   "outputs": [],
   "source": [
    "def sum_of_squares(num1, num2, num3):\n",
    "    squared_sum = num1**2 + num2**2 + num3**2\n",
    "    return squared_sum"
   ]
  },
  {
   "cell_type": "code",
   "execution_count": 20,
   "id": "41adbcf7",
   "metadata": {},
   "outputs": [
    {
     "data": {
      "text/plain": [
       "1400"
      ]
     },
     "execution_count": 20,
     "metadata": {},
     "output_type": "execute_result"
    }
   ],
   "source": [
    "sum_of_squares(10,20,30)"
   ]
  }
 ],
 "metadata": {
  "kernelspec": {
   "display_name": "Python 3 (ipykernel)",
   "language": "python",
   "name": "python3"
  },
  "language_info": {
   "codemirror_mode": {
    "name": "ipython",
    "version": 3
   },
   "file_extension": ".py",
   "mimetype": "text/x-python",
   "name": "python",
   "nbconvert_exporter": "python",
   "pygments_lexer": "ipython3",
   "version": "3.9.12"
  }
 },
 "nbformat": 4,
 "nbformat_minor": 5
}
