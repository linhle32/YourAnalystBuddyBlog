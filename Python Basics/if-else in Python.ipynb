{
 "cells": [
  {
   "cell_type": "markdown",
   "id": "50c201fd",
   "metadata": {},
   "source": [
    "The full explanation for this notebook is available at https://youranalystbuddy.com/if-else-in-python/\n",
    "\n",
    "## Motivation\n",
    "\n",
    "A lot of times, errors come from the inputs of the codes, not from the syntax or logic. For example, division works unless the denominator is 0"
   ]
  },
  {
   "cell_type": "code",
   "execution_count": 1,
   "id": "890da63c",
   "metadata": {},
   "outputs": [
    {
     "data": {
      "text/plain": [
       "2.0"
      ]
     },
     "execution_count": 1,
     "metadata": {},
     "output_type": "execute_result"
    }
   ],
   "source": [
    "x = 5\n",
    "\n",
    "10/5"
   ]
  },
  {
   "cell_type": "code",
   "execution_count": 2,
   "id": "dc4c6afb",
   "metadata": {},
   "outputs": [
    {
     "ename": "ZeroDivisionError",
     "evalue": "division by zero",
     "output_type": "error",
     "traceback": [
      "\u001b[1;31m---------------------------------------------------------------------------\u001b[0m",
      "\u001b[1;31mZeroDivisionError\u001b[0m                         Traceback (most recent call last)",
      "Input \u001b[1;32mIn [2]\u001b[0m, in \u001b[0;36m<cell line: 3>\u001b[1;34m()\u001b[0m\n\u001b[0;32m      1\u001b[0m x \u001b[38;5;241m=\u001b[39m \u001b[38;5;241m0\u001b[39m\n\u001b[1;32m----> 3\u001b[0m \u001b[38;5;241;43m10\u001b[39;49m\u001b[38;5;241;43m/\u001b[39;49m\u001b[38;5;241;43m0\u001b[39;49m\n",
      "\u001b[1;31mZeroDivisionError\u001b[0m: division by zero"
     ]
    }
   ],
   "source": [
    "x = 0\n",
    "\n",
    "10/0"
   ]
  },
  {
   "cell_type": "markdown",
   "id": "881b1e1c",
   "metadata": {},
   "source": [
    "<h3> if Structures </h3>\n",
    "\n",
    "if structures allow us to write codes that execute in some cases and not execute in some other based on checking certain conditions. For example, if a person is 20 year old, assign them to age group 1, if a person is 30 year old, assign them to age group 2, etc. If structures are very commonly used in analytics.\n",
    "\n",
    "<h4> The Simple if Statement </h4>\n",
    "\n",
    "The most basic structure is an <b>if</b> statement. The syntax is as follows\n",
    "\n",
    "<b>\n",
    "if &lt;condition expression&gt;:<br>\n",
    "&emsp;#block of codes\n",
    "</b>\n",
    "\n",
    "when the statement is running, it will first check the &lt;condition expression&gt; which if being correct (i.e., returns the boolean value <b>True</b>), will results in the #block of codes being executed. If the &lt;condition expression&gt; is wrong (i.e. returns the boolean value <b>False</b>), the #block of codes will be ignored, and the program skips to the next executable codes.\n",
    "\n",
    "Below are some examples"
   ]
  },
  {
   "cell_type": "code",
   "execution_count": 3,
   "id": "a50130fa",
   "metadata": {
    "scrolled": true
   },
   "outputs": [
    {
     "name": "stdout",
     "output_type": "stream",
     "text": [
      "2.0\n"
     ]
    }
   ],
   "source": [
    "x = 5\n",
    "\n",
    "if (x != 0):\n",
    "    print(10 / x)"
   ]
  },
  {
   "cell_type": "code",
   "execution_count": 4,
   "id": "dae8a509",
   "metadata": {},
   "outputs": [],
   "source": [
    "x = 0\n",
    "\n",
    "if (x != 0):\n",
    "    print(10 / x)"
   ]
  },
  {
   "cell_type": "markdown",
   "id": "10f9e65c",
   "metadata": {},
   "source": [
    "### Indentations are important!"
   ]
  },
  {
   "cell_type": "code",
   "execution_count": 5,
   "id": "89ff0161",
   "metadata": {},
   "outputs": [],
   "source": [
    "x = 0\n",
    "\n",
    "if (x != 0):\n",
    "    print(10 / x)\n",
    "    print('cannot divide by 0')"
   ]
  },
  {
   "cell_type": "code",
   "execution_count": 6,
   "id": "a775c389",
   "metadata": {},
   "outputs": [
    {
     "name": "stdout",
     "output_type": "stream",
     "text": [
      "cannot divide by 0\n"
     ]
    }
   ],
   "source": [
    "x = 0\n",
    "\n",
    "if (x != 0):\n",
    "    print(10 / x)\n",
    "print('cannot divide by 0')"
   ]
  },
  {
   "cell_type": "code",
   "execution_count": 7,
   "id": "fa53c581",
   "metadata": {},
   "outputs": [
    {
     "name": "stdout",
     "output_type": "stream",
     "text": [
      "age:  20 , age group:  1\n"
     ]
    }
   ],
   "source": [
    "age = 20\n",
    "\n",
    "if (age < 25):\n",
    "    age_group = 1\n",
    "    \n",
    "print('age: ', age, ', age group: ', age_group)"
   ]
  },
  {
   "cell_type": "code",
   "execution_count": 8,
   "id": "236c6520",
   "metadata": {},
   "outputs": [
    {
     "name": "stdout",
     "output_type": "stream",
     "text": [
      "age:  20 , age group:  1\n"
     ]
    }
   ],
   "source": [
    "age = 20\n",
    "\n",
    "if (age > 25):\n",
    "    age_group = 2\n",
    "    \n",
    "print('age: ', age, ', age group: ', age_group)"
   ]
  },
  {
   "cell_type": "markdown",
   "id": "f6d8e317",
   "metadata": {},
   "source": [
    "<h3> The if-else Statement</h3>\n",
    "\n",
    "The <b>if-else</b> statement allows us to add actions for the <b>False</b> case of the expression given to if. The syntax is\n",
    "\n",
    "<b>\n",
    "if &lt;boolean expression&gt;: <br>\n",
    "&emsp;#True block <br>\n",
    "else: <br>\n",
    "&emsp;#False block\n",
    "</b>\n",
    "\n",
    "when the statement is running, it will first check the &lt;condition expression&gt; which if being correct (i.e., returns the boolean value <b>True</b>), will results in the #True block being executed. If the &lt;condition expression&gt; is wrong (i.e. returns the boolean value <b>False</b>), the #False block will be executed."
   ]
  },
  {
   "cell_type": "code",
   "execution_count": 10,
   "id": "f1330b66",
   "metadata": {},
   "outputs": [
    {
     "name": "stdout",
     "output_type": "stream",
     "text": [
      "age:  30 , age group:  2\n"
     ]
    }
   ],
   "source": [
    "age = 30\n",
    "\n",
    "if (age < 25):\n",
    "    age_group = 1\n",
    "else:\n",
    "    age_group = 2\n",
    "    \n",
    "print('age: ', age, ', age group: ', age_group)"
   ]
  },
  {
   "cell_type": "code",
   "execution_count": 11,
   "id": "0bfe0747",
   "metadata": {},
   "outputs": [
    {
     "name": "stdout",
     "output_type": "stream",
     "text": [
      "cannot divide by 0\n"
     ]
    }
   ],
   "source": [
    "x = 0\n",
    "\n",
    "if (x != 0):\n",
    "    print(10 / x)\n",
    "else:\n",
    "    print('cannot divide by 0')"
   ]
  },
  {
   "cell_type": "markdown",
   "id": "ec94732d",
   "metadata": {},
   "source": [
    "<h3>The if-elif-else Structure</h3>\n",
    "\n",
    "Unlike the if-else statement which only allows two outcomes, and if we want to check for multiple conditions we need to nest statements, the if-elif-else statement can check a chain of conditions without nested structures. The syntax of this statement is\n",
    "\n",
    "<b>\n",
    "if &lt;Expression 1&gt;: <br>\n",
    "&emsp;#Block 1<br>\n",
    "elif &lt;Expression 2&gt;: <br>\n",
    "&emsp;#Block 2<br>\n",
    "elif &lt;Expression 3&gt;: <br>\n",
    "&emsp;#Block 3 <br>\n",
    "    ... <br>\n",
    "else:   #this is optional<br> \n",
    "&emsp;#Else Block <br>    \n",
    "</b>\n",
    "\n",
    "Each &lt;Expression&gt; in the structure will be evaluated in order (1, 2, 3, etc.). If an expression is correct, its corresponding block of codes will be executed, and the rest of the expressions and codes are omitted. The block of the else statement is executed only when all previous expressions are False."
   ]
  },
  {
   "cell_type": "code",
   "execution_count": 13,
   "id": "ed0fc913",
   "metadata": {},
   "outputs": [
    {
     "name": "stdout",
     "output_type": "stream",
     "text": [
      "age: 25 , age group: 20 to 30\n"
     ]
    }
   ],
   "source": [
    "age = 25\n",
    "\n",
    "if (age < 20):\n",
    "    age_group = 'below 20'\n",
    "elif (age < 30):\n",
    "    age_group = '20 to 30'\n",
    "elif (age < 40):\n",
    "    age_group = '30 to 40'\n",
    "elif (age < 50):\n",
    "    age_group = '40 to 50'\n",
    "else:\n",
    "    age_group = 'above 50'\n",
    "    \n",
    "print('age:', age, ', age group:', age_group)"
   ]
  }
 ],
 "metadata": {
  "kernelspec": {
   "display_name": "Python 3 (ipykernel)",
   "language": "python",
   "name": "python3"
  },
  "language_info": {
   "codemirror_mode": {
    "name": "ipython",
    "version": 3
   },
   "file_extension": ".py",
   "mimetype": "text/x-python",
   "name": "python",
   "nbconvert_exporter": "python",
   "pygments_lexer": "ipython3",
   "version": "3.9.12"
  }
 },
 "nbformat": 4,
 "nbformat_minor": 5
}
