{
 "cells": [
  {
   "cell_type": "markdown",
   "id": "eec67e51",
   "metadata": {},
   "source": [
    "The complete explanation for this notebook is at https://youranalystbuddy.com/loops-in-python/\n",
    "\n",
    "## Loops in Python\n",
    "\n",
    "These structures allow us to repeat executing the same blocks of codes. In Python, we will talk about two loop structures: <b>while</b> loop and <b>for</b> loop.\n",
    "\n",
    "<h3><i>while</i> Loop</h3>\n",
    "\n",
    "In terms of syntax, the while loop is rather similar to a single if structure\n",
    "\n",
    "<b>\n",
    "while &lt;boolean expression&gt;:<br>\n",
    "&emsp;#block of codes\n",
    "</b>\n",
    "\n",
    "The block of codes will be <b>repeatly executed as long as</b> the boolean expression returns <b>True</b>.\n",
    "\n",
    "<h4>Some examples</h4>"
   ]
  },
  {
   "cell_type": "code",
   "execution_count": 1,
   "id": "37781f80",
   "metadata": {},
   "outputs": [
    {
     "name": "stdout",
     "output_type": "stream",
     "text": [
      "I have been repeated 1 time(s)\n",
      "I have been repeated 2 time(s)\n",
      "I have been repeated 3 time(s)\n",
      "I have been repeated 4 time(s)\n",
      "I have been repeated 5 time(s)\n",
      "the loop has ended\n"
     ]
    }
   ],
   "source": [
    "time = 1                                           \n",
    "\n",
    "while (time < 6):                                   \n",
    "    print('I have been repeated', time, 'time(s)')\n",
    "    time = time + 1                                \n",
    "                                                              \n",
    "print('the loop has ended')"
   ]
  },
  {
   "cell_type": "markdown",
   "id": "69f61da6",
   "metadata": {},
   "source": [
    "<h3> <i>for</i> Loop </h3>\n",
    "\n",
    "Unlike while loop that continues or terminates based on checking a certain condition, <b>for</b> loop iterates through item of a given <b>sequence</b> of items.\n",
    "\n",
    "The syntax of <b>for</b> loop:\n",
    "\n",
    "<b> for &lt;variable&gt; in &lt;sequence&gt;:<br>\n",
    "&emsp;#block of code\n",
    "</b>\n",
    "\n",
    "In a for loop, for each iteration, the interpreter checks if there are item remaining in the list. If there are more items, it executes the block of codes using the current item. If there are no items left, the loop terminates. "
   ]
  },
  {
   "cell_type": "markdown",
   "id": "96b877fa",
   "metadata": {},
   "source": [
    "<h4> The <i>range()</i> Function</h4>\n",
    "\n",
    "The range() function generates a sequence of integer number. You can choose the start, stop, and step. The most basic use of range() is <b>range(integer_number)</b>. This will produce all integer numbers from <b>0</b> to <b>integer_number-1</b> as an <b>iterable</b> object. Roughly speaking, an iterable object is similar to a list, and we can use it in a for loop. For example"
   ]
  },
  {
   "cell_type": "code",
   "execution_count": 2,
   "id": "b89c45f5",
   "metadata": {},
   "outputs": [
    {
     "name": "stdout",
     "output_type": "stream",
     "text": [
      "0\n",
      "1\n",
      "2\n",
      "3\n",
      "4\n"
     ]
    }
   ],
   "source": [
    "for num in range(5):\n",
    "    print(num)"
   ]
  },
  {
   "cell_type": "markdown",
   "id": "c5f66ea8",
   "metadata": {},
   "source": [
    "The second use of range() is <b>range(start,stop)</b>. This way of input will create an iterable object of all integer number from <b>start</b> to <b>stop-1</b>. Both <b>start</b> and <b>stop must</b> be integer. For example"
   ]
  },
  {
   "cell_type": "code",
   "execution_count": 3,
   "id": "f05637da",
   "metadata": {},
   "outputs": [
    {
     "name": "stdout",
     "output_type": "stream",
     "text": [
      "5\n",
      "6\n",
      "7\n",
      "8\n",
      "9\n"
     ]
    }
   ],
   "source": [
    "for num in range(5,10):\n",
    "    print(num)"
   ]
  },
  {
   "cell_type": "markdown",
   "id": "12b90f8d",
   "metadata": {},
   "source": [
    "The third use of range() is <b>range(start,stop,step)</b>. This way of input will create an iterable object of integer number from <b>start</b> to <b>stop-1</b> incremented by <b>step</b>. All inputs <b>must be integer</b>. For example"
   ]
  },
  {
   "cell_type": "code",
   "execution_count": 4,
   "id": "bd5fc16a",
   "metadata": {},
   "outputs": [
    {
     "name": "stdout",
     "output_type": "stream",
     "text": [
      "0\n",
      "2\n",
      "4\n",
      "6\n",
      "8\n"
     ]
    }
   ],
   "source": [
    "for num in range(0,10,2):\n",
    "    print(num)"
   ]
  },
  {
   "cell_type": "markdown",
   "id": "907fa300",
   "metadata": {},
   "source": [
    "### Accumulator"
   ]
  },
  {
   "cell_type": "code",
   "execution_count": 5,
   "id": "76a2f338",
   "metadata": {},
   "outputs": [
    {
     "name": "stdout",
     "output_type": "stream",
     "text": [
      "20\n"
     ]
    }
   ],
   "source": [
    "accumulator = 0\n",
    "\n",
    "for num in range(0,10,2):\n",
    "    accumulator = accumulator + num\n",
    "print(accumulator)"
   ]
  }
 ],
 "metadata": {
  "kernelspec": {
   "display_name": "Python 3 (ipykernel)",
   "language": "python",
   "name": "python3"
  },
  "language_info": {
   "codemirror_mode": {
    "name": "ipython",
    "version": 3
   },
   "file_extension": ".py",
   "mimetype": "text/x-python",
   "name": "python",
   "nbconvert_exporter": "python",
   "pygments_lexer": "ipython3",
   "version": "3.9.12"
  }
 },
 "nbformat": 4,
 "nbformat_minor": 5
}
