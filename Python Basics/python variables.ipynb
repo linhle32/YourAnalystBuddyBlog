{
 "cells": [
  {
   "cell_type": "markdown",
   "id": "2d5114b6",
   "metadata": {},
   "source": [
    "The complete explanation for this notebook is available at https://youranalystbuddy.com/python-variables/\n",
    "\n",
    "## Mathematical Operation"
   ]
  },
  {
   "cell_type": "code",
   "execution_count": 1,
   "id": "7b47206d",
   "metadata": {},
   "outputs": [
    {
     "data": {
      "text/plain": [
       "15"
      ]
     },
     "execution_count": 1,
     "metadata": {},
     "output_type": "execute_result"
    }
   ],
   "source": [
    "10 + 5"
   ]
  },
  {
   "cell_type": "code",
   "execution_count": 2,
   "id": "a7c3b991",
   "metadata": {},
   "outputs": [
    {
     "data": {
      "text/plain": [
       "7"
      ]
     },
     "execution_count": 2,
     "metadata": {},
     "output_type": "execute_result"
    }
   ],
   "source": [
    "15 - 8"
   ]
  },
  {
   "cell_type": "code",
   "execution_count": 3,
   "id": "0bd5d51f",
   "metadata": {},
   "outputs": [
    {
     "data": {
      "text/plain": [
       "72"
      ]
     },
     "execution_count": 3,
     "metadata": {},
     "output_type": "execute_result"
    }
   ],
   "source": [
    "8 * 9"
   ]
  },
  {
   "cell_type": "code",
   "execution_count": 4,
   "id": "96fb0d44",
   "metadata": {},
   "outputs": [
    {
     "data": {
      "text/plain": [
       "9.0"
      ]
     },
     "execution_count": 4,
     "metadata": {},
     "output_type": "execute_result"
    }
   ],
   "source": [
    "90 / 10"
   ]
  },
  {
   "cell_type": "code",
   "execution_count": 5,
   "id": "2029a695",
   "metadata": {},
   "outputs": [
    {
     "data": {
      "text/plain": [
       "64"
      ]
     },
     "execution_count": 5,
     "metadata": {},
     "output_type": "execute_result"
    }
   ],
   "source": [
    "4**3"
   ]
  },
  {
   "cell_type": "code",
   "execution_count": 6,
   "id": "1b210047",
   "metadata": {},
   "outputs": [
    {
     "data": {
      "text/plain": [
       "20.0"
      ]
     },
     "execution_count": 6,
     "metadata": {},
     "output_type": "execute_result"
    }
   ],
   "source": [
    "10 * (5+7) / 6"
   ]
  },
  {
   "cell_type": "markdown",
   "id": "c1f5e206",
   "metadata": {},
   "source": [
    "## Variables\n",
    "\n",
    "- Are symbolic names that can be assigned values\n",
    "- Assignments are done with the = operator\n",
    "- After assignment, the variables carried the value, and the interpreter uses those values whenever it encounters the variables\n",
    "\n",
    "In the cell below, first we assign the value 1 to x, and the value 2 to y. When being input to print(), the <b>values</b> given to the variables will be output, not the variables' name"
   ]
  },
  {
   "cell_type": "code",
   "execution_count": 7,
   "id": "cd9c4058",
   "metadata": {},
   "outputs": [
    {
     "data": {
      "text/plain": [
       "3"
      ]
     },
     "execution_count": 7,
     "metadata": {},
     "output_type": "execute_result"
    }
   ],
   "source": [
    "x = 1\n",
    "y = 2\n",
    "x + y"
   ]
  },
  {
   "cell_type": "code",
   "execution_count": 8,
   "id": "13bf303e",
   "metadata": {},
   "outputs": [
    {
     "data": {
      "text/plain": [
       "300"
      ]
     },
     "execution_count": 8,
     "metadata": {},
     "output_type": "execute_result"
    }
   ],
   "source": [
    "num1 = 15\n",
    "num2 = 20\n",
    "num1 * num2"
   ]
  },
  {
   "cell_type": "markdown",
   "id": "25d0c297",
   "metadata": {},
   "source": [
    "## Examples of variables in data analytics\n",
    "\n",
    "We use variables to store almost everything necessary during an analytical process, for example, a dataset, a model, predicited labels, etc. In the example below (note that you will need to have scikit-learn installed to run the example), we perform a simple linear regression (will be discussed in later modules) on the diabetes dataset. The data has ten features: age, sex, body mass index, average blood pressure, and six blood serum measurements were obtained for each 442 diabetes patients. The target to analyze is a quantitative measure of disease progression one year after baseline. The codes include the following variables:\n",
    "\n",
    "- \"data\" stores the dataset diabetes from the sklearn library\n",
    "- \"features\" stores the feature (predictor) part of the diabete data\n",
    "- \"targets\" stores the target (label) part of the diabete data\n",
    "- \"linear_model\" represents a linear regression model from the sklearn library\n",
    "- \"predicted_targets\" stores the predicted values that are output by the linear_model\n",
    "\n",
    "If you use the print() function on each of the variables, you will see more of their details."
   ]
  },
  {
   "cell_type": "code",
   "execution_count": 9,
   "id": "7368f9c5",
   "metadata": {},
   "outputs": [],
   "source": [
    "#load necessary libraries\n",
    "from sklearn.datasets import load_diabetes\n",
    "from sklearn.linear_model import LinearRegression\n",
    "\n",
    "#load data\n",
    "data = load_diabetes()\n",
    "\n",
    "#extract features and labels\n",
    "features = data['data']\n",
    "targets = data['target']\n",
    "\n",
    "#create model\n",
    "linear_model = LinearRegression()\n",
    "\n",
    "#train model\n",
    "linear_model.fit(features,targets)\n",
    "\n",
    "#make prediction\n",
    "predicted_targets = linear_model.predict(features)"
   ]
  }
 ],
 "metadata": {
  "kernelspec": {
   "display_name": "Python 3 (ipykernel)",
   "language": "python",
   "name": "python3"
  },
  "language_info": {
   "codemirror_mode": {
    "name": "ipython",
    "version": 3
   },
   "file_extension": ".py",
   "mimetype": "text/x-python",
   "name": "python",
   "nbconvert_exporter": "python",
   "pygments_lexer": "ipython3",
   "version": "3.9.12"
  }
 },
 "nbformat": 4,
 "nbformat_minor": 5
}
