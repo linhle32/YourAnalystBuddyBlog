{
 "cells": [
  {
   "cell_type": "markdown",
   "id": "87b0be63",
   "metadata": {},
   "source": [
    "The complete explanation for this code is available at https://youranalystbuddy.com/print-function/\n",
    "\n",
    "### The print() function\n",
    "\n",
    "Recall, a math function can be something like  \n",
    "$f(x) = x + 1$  \n",
    "And we can use it for different inputs to get different outputs, however, the processing of inputs is always the same: any input is added with 1 when given to the function  \n",
    "$f(1) = 2$  \n",
    "$f(5) = 6$  \n",
    "...\n",
    "\n",
    "A Python function is somewhat similar. In Python, a function is pre-written codes that do a particular task on any input given to it (however, input is optional)\n",
    "\n",
    "We can use a function by referring to its names. Functions' names must be followed by a pair of open-close parentheses <b>()</b>. This action is named \"<b>calling a function</b>\", or a \"<b>function call</b>\"\n",
    "\n",
    "A function may or may not have input parameters. Input parameters must be inside the parentheses. Functions without input parameters still need the parentheses however there is nothing in between them. \n",
    "\n",
    "A function that we've been using earlier is <b>print()</b>. <b>print()</b> is used to output the <b>values, or contents</b>, of the inputs we give it. A <b>print()</b> without input parameters will output an empty line. \n",
    "\n",
    "### Basic usages"
   ]
  },
  {
   "cell_type": "code",
   "execution_count": 7,
   "id": "8817e8f8",
   "metadata": {},
   "outputs": [
    {
     "name": "stdout",
     "output_type": "stream",
     "text": [
      "1\n",
      "6\n",
      "\n",
      "100\n"
     ]
    }
   ],
   "source": [
    "print(1)\n",
    "print(1+5)\n",
    "print()\n",
    "print(10*10)"
   ]
  },
  {
   "cell_type": "markdown",
   "id": "1f4f6bcb",
   "metadata": {},
   "source": [
    "### With variables"
   ]
  },
  {
   "cell_type": "code",
   "execution_count": 8,
   "id": "f590e6c9",
   "metadata": {},
   "outputs": [
    {
     "name": "stdout",
     "output_type": "stream",
     "text": [
      "15\n",
      "20\n",
      "35\n"
     ]
    }
   ],
   "source": [
    "num1 = 15\n",
    "num2 = 20\n",
    "print(num1)\n",
    "print(num2)\n",
    "print(num1 + num2)"
   ]
  },
  {
   "cell_type": "markdown",
   "id": "a673d111",
   "metadata": {},
   "source": [
    "### With strings"
   ]
  },
  {
   "cell_type": "code",
   "execution_count": 5,
   "id": "45cb8e8a",
   "metadata": {},
   "outputs": [
    {
     "name": "stdout",
     "output_type": "stream",
     "text": [
      "hello data science\n"
     ]
    }
   ],
   "source": [
    "a_string = 'hello data science'\n",
    "print(a_string)"
   ]
  },
  {
   "cell_type": "markdown",
   "id": "69a60e75",
   "metadata": {},
   "source": [
    "### Printing multiple items"
   ]
  },
  {
   "cell_type": "code",
   "execution_count": 6,
   "id": "653e36f3",
   "metadata": {
    "scrolled": true
   },
   "outputs": [
    {
     "name": "stdout",
     "output_type": "stream",
     "text": [
      "hello Alice\n"
     ]
    }
   ],
   "source": [
    "name = 'Alice'\n",
    "print('hello', name)"
   ]
  }
 ],
 "metadata": {
  "kernelspec": {
   "display_name": "Python 3 (ipykernel)",
   "language": "python",
   "name": "python3"
  },
  "language_info": {
   "codemirror_mode": {
    "name": "ipython",
    "version": 3
   },
   "file_extension": ".py",
   "mimetype": "text/x-python",
   "name": "python",
   "nbconvert_exporter": "python",
   "pygments_lexer": "ipython3",
   "version": "3.9.12"
  }
 },
 "nbformat": 4,
 "nbformat_minor": 5
}
